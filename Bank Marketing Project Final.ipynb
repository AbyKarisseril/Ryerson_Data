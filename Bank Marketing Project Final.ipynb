{
 "cells": [
  {
   "cell_type": "code",
   "execution_count": 1,
   "metadata": {},
   "outputs": [],
   "source": [
    "import pandas as pd\n",
    "import numpy as np\n",
    "import matplotlib.pyplot as plt\n",
    "import seaborn as sns"
   ]
  },
  {
   "cell_type": "code",
   "execution_count": 29,
   "metadata": {},
   "outputs": [],
   "source": [
    "from sklearn import metrics\n",
    "from sklearn.preprocessing import MinMaxScaler\n",
    "from sklearn.metrics import f1_score\n",
    "from sklearn.utils import resample\n",
    "from sklearn.preprocessing import LabelEncoder\n",
    "from sklearn.model_selection import train_test_split\n",
    "from sklearn.linear_model import LogisticRegression\n",
    "from sklearn.metrics import confusion_matrix,accuracy_score"
   ]
  },
  {
   "cell_type": "code",
   "execution_count": 3,
   "metadata": {},
   "outputs": [
    {
     "data": {
      "text/html": [
       "<div>\n",
       "<style scoped>\n",
       "    .dataframe tbody tr th:only-of-type {\n",
       "        vertical-align: middle;\n",
       "    }\n",
       "\n",
       "    .dataframe tbody tr th {\n",
       "        vertical-align: top;\n",
       "    }\n",
       "\n",
       "    .dataframe thead th {\n",
       "        text-align: right;\n",
       "    }\n",
       "</style>\n",
       "<table border=\"1\" class=\"dataframe\">\n",
       "  <thead>\n",
       "    <tr style=\"text-align: right;\">\n",
       "      <th></th>\n",
       "      <th>age</th>\n",
       "      <th>job</th>\n",
       "      <th>marital</th>\n",
       "      <th>education</th>\n",
       "      <th>default</th>\n",
       "      <th>housing</th>\n",
       "      <th>loan</th>\n",
       "      <th>contact</th>\n",
       "      <th>month</th>\n",
       "      <th>day_of_week</th>\n",
       "      <th>duration</th>\n",
       "      <th>campaign</th>\n",
       "      <th>pdays</th>\n",
       "      <th>previous</th>\n",
       "      <th>poutcome</th>\n",
       "      <th>emp.var.rate</th>\n",
       "      <th>cons.price.idx</th>\n",
       "      <th>cons.conf.idx</th>\n",
       "      <th>euribor3m</th>\n",
       "      <th>nr.employed</th>\n",
       "      <th>y</th>\n",
       "    </tr>\n",
       "  </thead>\n",
       "  <tbody>\n",
       "    <tr>\n",
       "      <th>0</th>\n",
       "      <td>56</td>\n",
       "      <td>housemaid</td>\n",
       "      <td>married</td>\n",
       "      <td>basic.4y</td>\n",
       "      <td>no</td>\n",
       "      <td>no</td>\n",
       "      <td>no</td>\n",
       "      <td>telephone</td>\n",
       "      <td>may</td>\n",
       "      <td>mon</td>\n",
       "      <td>261</td>\n",
       "      <td>1</td>\n",
       "      <td>999</td>\n",
       "      <td>0</td>\n",
       "      <td>nonexistent</td>\n",
       "      <td>1.1</td>\n",
       "      <td>93.994</td>\n",
       "      <td>-36.4</td>\n",
       "      <td>4.857</td>\n",
       "      <td>5191.0</td>\n",
       "      <td>no</td>\n",
       "    </tr>\n",
       "    <tr>\n",
       "      <th>1</th>\n",
       "      <td>57</td>\n",
       "      <td>services</td>\n",
       "      <td>married</td>\n",
       "      <td>high.school</td>\n",
       "      <td>unknown</td>\n",
       "      <td>no</td>\n",
       "      <td>no</td>\n",
       "      <td>telephone</td>\n",
       "      <td>may</td>\n",
       "      <td>mon</td>\n",
       "      <td>149</td>\n",
       "      <td>1</td>\n",
       "      <td>999</td>\n",
       "      <td>0</td>\n",
       "      <td>nonexistent</td>\n",
       "      <td>1.1</td>\n",
       "      <td>93.994</td>\n",
       "      <td>-36.4</td>\n",
       "      <td>4.857</td>\n",
       "      <td>5191.0</td>\n",
       "      <td>no</td>\n",
       "    </tr>\n",
       "    <tr>\n",
       "      <th>2</th>\n",
       "      <td>37</td>\n",
       "      <td>services</td>\n",
       "      <td>married</td>\n",
       "      <td>high.school</td>\n",
       "      <td>no</td>\n",
       "      <td>yes</td>\n",
       "      <td>no</td>\n",
       "      <td>telephone</td>\n",
       "      <td>may</td>\n",
       "      <td>mon</td>\n",
       "      <td>226</td>\n",
       "      <td>1</td>\n",
       "      <td>999</td>\n",
       "      <td>0</td>\n",
       "      <td>nonexistent</td>\n",
       "      <td>1.1</td>\n",
       "      <td>93.994</td>\n",
       "      <td>-36.4</td>\n",
       "      <td>4.857</td>\n",
       "      <td>5191.0</td>\n",
       "      <td>no</td>\n",
       "    </tr>\n",
       "    <tr>\n",
       "      <th>3</th>\n",
       "      <td>40</td>\n",
       "      <td>admin.</td>\n",
       "      <td>married</td>\n",
       "      <td>basic.6y</td>\n",
       "      <td>no</td>\n",
       "      <td>no</td>\n",
       "      <td>no</td>\n",
       "      <td>telephone</td>\n",
       "      <td>may</td>\n",
       "      <td>mon</td>\n",
       "      <td>151</td>\n",
       "      <td>1</td>\n",
       "      <td>999</td>\n",
       "      <td>0</td>\n",
       "      <td>nonexistent</td>\n",
       "      <td>1.1</td>\n",
       "      <td>93.994</td>\n",
       "      <td>-36.4</td>\n",
       "      <td>4.857</td>\n",
       "      <td>5191.0</td>\n",
       "      <td>no</td>\n",
       "    </tr>\n",
       "    <tr>\n",
       "      <th>4</th>\n",
       "      <td>56</td>\n",
       "      <td>services</td>\n",
       "      <td>married</td>\n",
       "      <td>high.school</td>\n",
       "      <td>no</td>\n",
       "      <td>no</td>\n",
       "      <td>yes</td>\n",
       "      <td>telephone</td>\n",
       "      <td>may</td>\n",
       "      <td>mon</td>\n",
       "      <td>307</td>\n",
       "      <td>1</td>\n",
       "      <td>999</td>\n",
       "      <td>0</td>\n",
       "      <td>nonexistent</td>\n",
       "      <td>1.1</td>\n",
       "      <td>93.994</td>\n",
       "      <td>-36.4</td>\n",
       "      <td>4.857</td>\n",
       "      <td>5191.0</td>\n",
       "      <td>no</td>\n",
       "    </tr>\n",
       "  </tbody>\n",
       "</table>\n",
       "</div>"
      ],
      "text/plain": [
       "   age        job  marital    education  default housing loan    contact  \\\n",
       "0   56  housemaid  married     basic.4y       no      no   no  telephone   \n",
       "1   57   services  married  high.school  unknown      no   no  telephone   \n",
       "2   37   services  married  high.school       no     yes   no  telephone   \n",
       "3   40     admin.  married     basic.6y       no      no   no  telephone   \n",
       "4   56   services  married  high.school       no      no  yes  telephone   \n",
       "\n",
       "  month day_of_week  duration  campaign  pdays  previous     poutcome  \\\n",
       "0   may         mon       261         1    999         0  nonexistent   \n",
       "1   may         mon       149         1    999         0  nonexistent   \n",
       "2   may         mon       226         1    999         0  nonexistent   \n",
       "3   may         mon       151         1    999         0  nonexistent   \n",
       "4   may         mon       307         1    999         0  nonexistent   \n",
       "\n",
       "   emp.var.rate  cons.price.idx  cons.conf.idx  euribor3m  nr.employed   y  \n",
       "0           1.1          93.994          -36.4      4.857       5191.0  no  \n",
       "1           1.1          93.994          -36.4      4.857       5191.0  no  \n",
       "2           1.1          93.994          -36.4      4.857       5191.0  no  \n",
       "3           1.1          93.994          -36.4      4.857       5191.0  no  \n",
       "4           1.1          93.994          -36.4      4.857       5191.0  no  "
      ]
     },
     "execution_count": 3,
     "metadata": {},
     "output_type": "execute_result"
    }
   ],
   "source": [
    "df = pd.read_csv('Bank_Additional.csv',';')\n",
    "pd.set_option('display.max_columns', None)\n",
    "df.head()"
   ]
  },
  {
   "cell_type": "code",
   "execution_count": 158,
   "metadata": {},
   "outputs": [
    {
     "data": {
      "text/plain": [
       "<AxesSubplot:title={'center':'Distribution of target variables'}>"
      ]
     },
     "execution_count": 158,
     "metadata": {},
     "output_type": "execute_result"
    },
    {
     "data": {
      "image/png": "[encoded data removed]",
      "text/plain": [
       "<Figure size 432x288 with 1 Axes>"
      ]
     },
     "metadata": {
      "needs_background": "light"
     },
     "output_type": "display_data"
    }
   ],
   "source": [
    "plt.title('Distribution of target variables')\n",
    "sns.barplot(x = list(df.y.value_counts().index), y = list(df.y.value_counts().values))"
   ]
  },
  {
   "cell_type": "code",
   "execution_count": 159,
   "metadata": {},
   "outputs": [],
   "source": [
    "#Exploratory data Analysis\n",
    "#we will try to analyze the dataset columns wise"
   ]
  },
  {
   "cell_type": "code",
   "execution_count": 160,
   "metadata": {},
   "outputs": [
    {
     "data": {
      "text/plain": [
       "0"
      ]
     },
     "execution_count": 160,
     "metadata": {},
     "output_type": "execute_result"
    }
   ],
   "source": [
    "#job\n",
    "df.job.isna().sum()"
   ]
  },
  {
   "cell_type": "code",
   "execution_count": 161,
   "metadata": {},
   "outputs": [
    {
     "data": {
      "text/plain": [
       "admin.           10422\n",
       "blue-collar       9254\n",
       "technician        6743\n",
       "services          3969\n",
       "management        2924\n",
       "retired           1720\n",
       "entrepreneur      1456\n",
       "self-employed     1421\n",
       "housemaid         1060\n",
       "unemployed        1014\n",
       "student            875\n",
       "unknown            330\n",
       "Name: job, dtype: int64"
      ]
     },
     "execution_count": 161,
     "metadata": {},
     "output_type": "execute_result"
    }
   ],
   "source": [
    "df.job.value_counts()\n",
    "#admin is the most privalent job in the list followed by blue-collared workers and least number is from house maid"
   ]
  },
  {
   "cell_type": "code",
   "execution_count": 162,
   "metadata": {},
   "outputs": [
    {
     "data": {
      "text/html": [
       "<div>\n",
       "<style scoped>\n",
       "    .dataframe tbody tr th:only-of-type {\n",
       "        vertical-align: middle;\n",
       "    }\n",
       "\n",
       "    .dataframe tbody tr th {\n",
       "        vertical-align: top;\n",
       "    }\n",
       "\n",
       "    .dataframe thead th {\n",
       "        text-align: right;\n",
       "    }\n",
       "</style>\n",
       "<table border=\"1\" class=\"dataframe\">\n",
       "  <thead>\n",
       "    <tr style=\"text-align: right;\">\n",
       "      <th></th>\n",
       "      <th>yes</th>\n",
       "      <th>no</th>\n",
       "    </tr>\n",
       "  </thead>\n",
       "  <tbody>\n",
       "    <tr>\n",
       "      <th>admin.</th>\n",
       "      <td>1352</td>\n",
       "      <td>9070</td>\n",
       "    </tr>\n",
       "    <tr>\n",
       "      <th>technician</th>\n",
       "      <td>730</td>\n",
       "      <td>6013</td>\n",
       "    </tr>\n",
       "    <tr>\n",
       "      <th>blue-collar</th>\n",
       "      <td>638</td>\n",
       "      <td>8616</td>\n",
       "    </tr>\n",
       "    <tr>\n",
       "      <th>retired</th>\n",
       "      <td>434</td>\n",
       "      <td>1286</td>\n",
       "    </tr>\n",
       "    <tr>\n",
       "      <th>management</th>\n",
       "      <td>328</td>\n",
       "      <td>2596</td>\n",
       "    </tr>\n",
       "    <tr>\n",
       "      <th>services</th>\n",
       "      <td>323</td>\n",
       "      <td>3646</td>\n",
       "    </tr>\n",
       "    <tr>\n",
       "      <th>student</th>\n",
       "      <td>275</td>\n",
       "      <td>600</td>\n",
       "    </tr>\n",
       "    <tr>\n",
       "      <th>self-employed</th>\n",
       "      <td>149</td>\n",
       "      <td>1272</td>\n",
       "    </tr>\n",
       "    <tr>\n",
       "      <th>unemployed</th>\n",
       "      <td>144</td>\n",
       "      <td>870</td>\n",
       "    </tr>\n",
       "    <tr>\n",
       "      <th>entrepreneur</th>\n",
       "      <td>124</td>\n",
       "      <td>1332</td>\n",
       "    </tr>\n",
       "    <tr>\n",
       "      <th>housemaid</th>\n",
       "      <td>106</td>\n",
       "      <td>954</td>\n",
       "    </tr>\n",
       "    <tr>\n",
       "      <th>unknown</th>\n",
       "      <td>37</td>\n",
       "      <td>293</td>\n",
       "    </tr>\n",
       "  </tbody>\n",
       "</table>\n",
       "</div>"
      ],
      "text/plain": [
       "                yes    no\n",
       "admin.         1352  9070\n",
       "technician      730  6013\n",
       "blue-collar     638  8616\n",
       "retired         434  1286\n",
       "management      328  2596\n",
       "services        323  3646\n",
       "student         275   600\n",
       "self-employed   149  1272\n",
       "unemployed      144   870\n",
       "entrepreneur    124  1332\n",
       "housemaid       106   954\n",
       "unknown          37   293"
      ]
     },
     "execution_count": 162,
     "metadata": {},
     "output_type": "execute_result"
    }
   ],
   "source": [
    "jobdf = pd.DataFrame()\n",
    "jobdf['yes'] = df[df['y']=='yes']['job'].value_counts()\n",
    "jobdf['no'] = df[df['y']=='no']['job'].value_counts()\n",
    "jobdf"
   ]
  },
  {
   "cell_type": "code",
   "execution_count": 163,
   "metadata": {},
   "outputs": [
    {
     "data": {
      "text/plain": [
       "<AxesSubplot:>"
      ]
     },
     "execution_count": 163,
     "metadata": {},
     "output_type": "execute_result"
    },
    {
     "data": {
      "image/png": "[encoded data removed]",
      "text/plain": [
       "<Figure size 432x288 with 1 Axes>"
      ]
     },
     "metadata": {
      "needs_background": "light"
     },
     "output_type": "display_data"
    }
   ],
   "source": [
    "jobdf.plot.bar()"
   ]
  },
  {
   "cell_type": "code",
   "execution_count": 164,
   "metadata": {},
   "outputs": [
    {
     "data": {
      "text/html": [
       "<div>\n",
       "<style scoped>\n",
       "    .dataframe tbody tr th:only-of-type {\n",
       "        vertical-align: middle;\n",
       "    }\n",
       "\n",
       "    .dataframe tbody tr th {\n",
       "        vertical-align: top;\n",
       "    }\n",
       "\n",
       "    .dataframe thead th {\n",
       "        text-align: right;\n",
       "    }\n",
       "</style>\n",
       "<table border=\"1\" class=\"dataframe\">\n",
       "  <thead>\n",
       "    <tr style=\"text-align: right;\">\n",
       "      <th></th>\n",
       "      <th>age</th>\n",
       "    </tr>\n",
       "    <tr>\n",
       "      <th>job</th>\n",
       "      <th></th>\n",
       "    </tr>\n",
       "  </thead>\n",
       "  <tbody>\n",
       "    <tr>\n",
       "      <th>retired</th>\n",
       "      <td>62.027326</td>\n",
       "    </tr>\n",
       "    <tr>\n",
       "      <th>unknown</th>\n",
       "      <td>45.563636</td>\n",
       "    </tr>\n",
       "    <tr>\n",
       "      <th>housemaid</th>\n",
       "      <td>45.500000</td>\n",
       "    </tr>\n",
       "    <tr>\n",
       "      <th>management</th>\n",
       "      <td>42.362859</td>\n",
       "    </tr>\n",
       "    <tr>\n",
       "      <th>entrepreneur</th>\n",
       "      <td>41.723214</td>\n",
       "    </tr>\n",
       "    <tr>\n",
       "      <th>self-employed</th>\n",
       "      <td>39.949331</td>\n",
       "    </tr>\n",
       "    <tr>\n",
       "      <th>unemployed</th>\n",
       "      <td>39.733728</td>\n",
       "    </tr>\n",
       "    <tr>\n",
       "      <th>blue-collar</th>\n",
       "      <td>39.555760</td>\n",
       "    </tr>\n",
       "    <tr>\n",
       "      <th>technician</th>\n",
       "      <td>38.507638</td>\n",
       "    </tr>\n",
       "    <tr>\n",
       "      <th>admin.</th>\n",
       "      <td>38.187296</td>\n",
       "    </tr>\n",
       "    <tr>\n",
       "      <th>services</th>\n",
       "      <td>37.926430</td>\n",
       "    </tr>\n",
       "    <tr>\n",
       "      <th>student</th>\n",
       "      <td>25.894857</td>\n",
       "    </tr>\n",
       "  </tbody>\n",
       "</table>\n",
       "</div>"
      ],
      "text/plain": [
       "                     age\n",
       "job                     \n",
       "retired        62.027326\n",
       "unknown        45.563636\n",
       "housemaid      45.500000\n",
       "management     42.362859\n",
       "entrepreneur   41.723214\n",
       "self-employed  39.949331\n",
       "unemployed     39.733728\n",
       "blue-collar    39.555760\n",
       "technician     38.507638\n",
       "admin.         38.187296\n",
       "services       37.926430\n",
       "student        25.894857"
      ]
     },
     "execution_count": 164,
     "metadata": {},
     "output_type": "execute_result"
    }
   ],
   "source": [
    "#age of different occupations\n",
    "df[['job','age']].groupby('job').mean().sort_values(by = 'age',ascending = False)\n",
    "#retired people have the highest average obviously followed by housemaids and management professionals. the youngest\n",
    "#customers are students"
   ]
  },
  {
   "cell_type": "code",
   "execution_count": 165,
   "metadata": {},
   "outputs": [],
   "source": [
    "#success rate of closing a deal among customers with various jobs\n",
    "job_tit = list(df['job'].value_counts().index)\n",
    "job_per = []\n",
    "for jo in job_tit:\n",
    "    percent = ((df[df['job']== jo]['y'] == 'yes').sum()/df.job.value_counts()[jo])*100\n",
    "    job_per.append(percent)"
   ]
  },
  {
   "cell_type": "code",
   "execution_count": 166,
   "metadata": {},
   "outputs": [
    {
     "data": {
      "text/html": [
       "<div>\n",
       "<style scoped>\n",
       "    .dataframe tbody tr th:only-of-type {\n",
       "        vertical-align: middle;\n",
       "    }\n",
       "\n",
       "    .dataframe tbody tr th {\n",
       "        vertical-align: top;\n",
       "    }\n",
       "\n",
       "    .dataframe thead th {\n",
       "        text-align: right;\n",
       "    }\n",
       "</style>\n",
       "<table border=\"1\" class=\"dataframe\">\n",
       "  <thead>\n",
       "    <tr style=\"text-align: right;\">\n",
       "      <th></th>\n",
       "      <th>0</th>\n",
       "      <th>1</th>\n",
       "    </tr>\n",
       "  </thead>\n",
       "  <tbody>\n",
       "    <tr>\n",
       "      <th>0</th>\n",
       "      <td>admin.</td>\n",
       "      <td>12.972558</td>\n",
       "    </tr>\n",
       "    <tr>\n",
       "      <th>1</th>\n",
       "      <td>blue-collar</td>\n",
       "      <td>6.894316</td>\n",
       "    </tr>\n",
       "    <tr>\n",
       "      <th>2</th>\n",
       "      <td>technician</td>\n",
       "      <td>10.826042</td>\n",
       "    </tr>\n",
       "    <tr>\n",
       "      <th>3</th>\n",
       "      <td>services</td>\n",
       "      <td>8.138070</td>\n",
       "    </tr>\n",
       "    <tr>\n",
       "      <th>4</th>\n",
       "      <td>management</td>\n",
       "      <td>11.217510</td>\n",
       "    </tr>\n",
       "    <tr>\n",
       "      <th>5</th>\n",
       "      <td>retired</td>\n",
       "      <td>25.232558</td>\n",
       "    </tr>\n",
       "    <tr>\n",
       "      <th>6</th>\n",
       "      <td>entrepreneur</td>\n",
       "      <td>8.516484</td>\n",
       "    </tr>\n",
       "    <tr>\n",
       "      <th>7</th>\n",
       "      <td>self-employed</td>\n",
       "      <td>10.485574</td>\n",
       "    </tr>\n",
       "    <tr>\n",
       "      <th>8</th>\n",
       "      <td>housemaid</td>\n",
       "      <td>10.000000</td>\n",
       "    </tr>\n",
       "    <tr>\n",
       "      <th>9</th>\n",
       "      <td>unemployed</td>\n",
       "      <td>14.201183</td>\n",
       "    </tr>\n",
       "    <tr>\n",
       "      <th>10</th>\n",
       "      <td>student</td>\n",
       "      <td>31.428571</td>\n",
       "    </tr>\n",
       "    <tr>\n",
       "      <th>11</th>\n",
       "      <td>unknown</td>\n",
       "      <td>11.212121</td>\n",
       "    </tr>\n",
       "  </tbody>\n",
       "</table>\n",
       "</div>"
      ],
      "text/plain": [
       "                0          1\n",
       "0          admin.  12.972558\n",
       "1     blue-collar   6.894316\n",
       "2      technician  10.826042\n",
       "3        services   8.138070\n",
       "4      management  11.217510\n",
       "5         retired  25.232558\n",
       "6    entrepreneur   8.516484\n",
       "7   self-employed  10.485574\n",
       "8       housemaid  10.000000\n",
       "9      unemployed  14.201183\n",
       "10        student  31.428571\n",
       "11        unknown  11.212121"
      ]
     },
     "execution_count": 166,
     "metadata": {},
     "output_type": "execute_result"
    }
   ],
   "source": [
    "job_tit = pd.Series(job_tit)\n",
    "job_per = pd.Series(job_per)\n",
    "\n",
    "pd.concat([job_tit,job_per], axis = 1)\n",
    "\n",
    "#out of all the professions retired and students are more chances to accept the offer made by the caller and hardest to\n",
    "#crack would be blue-collar employees, entrepreneurs and services professionals"
   ]
  },
  {
   "cell_type": "code",
   "execution_count": 167,
   "metadata": {},
   "outputs": [
    {
     "data": {
      "text/plain": [
       "married     24928\n",
       "single      11568\n",
       "divorced     4612\n",
       "unknown        80\n",
       "Name: marital, dtype: int64"
      ]
     },
     "execution_count": 167,
     "metadata": {},
     "output_type": "execute_result"
    }
   ],
   "source": [
    "#marital column\n",
    "df['marital'].value_counts()\n",
    "\n",
    "#a major pie of the customers are married"
   ]
  },
  {
   "cell_type": "code",
   "execution_count": 168,
   "metadata": {},
   "outputs": [
    {
     "data": {
      "text/plain": [
       "<seaborn.axisgrid.FacetGrid at 0x2c41846fe80>"
      ]
     },
     "execution_count": 168,
     "metadata": {},
     "output_type": "execute_result"
    },
    {
     "data": {
      "image/png": "[encoded data removed]",
      "text/plain": [
       "<Figure size 360x360 with 1 Axes>"
      ]
     },
     "metadata": {
      "needs_background": "light"
     },
     "output_type": "display_data"
    }
   ],
   "source": [
    "sns.displot(df.marital)"
   ]
  },
  {
   "cell_type": "code",
   "execution_count": 169,
   "metadata": {},
   "outputs": [
    {
     "data": {
      "text/html": [
       "<div>\n",
       "<style scoped>\n",
       "    .dataframe tbody tr th:only-of-type {\n",
       "        vertical-align: middle;\n",
       "    }\n",
       "\n",
       "    .dataframe tbody tr th {\n",
       "        vertical-align: top;\n",
       "    }\n",
       "\n",
       "    .dataframe thead th {\n",
       "        text-align: right;\n",
       "    }\n",
       "</style>\n",
       "<table border=\"1\" class=\"dataframe\">\n",
       "  <thead>\n",
       "    <tr style=\"text-align: right;\">\n",
       "      <th></th>\n",
       "      <th>yes</th>\n",
       "      <th>no</th>\n",
       "    </tr>\n",
       "  </thead>\n",
       "  <tbody>\n",
       "    <tr>\n",
       "      <th>married</th>\n",
       "      <td>2532</td>\n",
       "      <td>22396</td>\n",
       "    </tr>\n",
       "    <tr>\n",
       "      <th>single</th>\n",
       "      <td>1620</td>\n",
       "      <td>9948</td>\n",
       "    </tr>\n",
       "    <tr>\n",
       "      <th>divorced</th>\n",
       "      <td>476</td>\n",
       "      <td>4136</td>\n",
       "    </tr>\n",
       "    <tr>\n",
       "      <th>unknown</th>\n",
       "      <td>12</td>\n",
       "      <td>68</td>\n",
       "    </tr>\n",
       "  </tbody>\n",
       "</table>\n",
       "</div>"
      ],
      "text/plain": [
       "           yes     no\n",
       "married   2532  22396\n",
       "single    1620   9948\n",
       "divorced   476   4136\n",
       "unknown     12     68"
      ]
     },
     "execution_count": 169,
     "metadata": {},
     "output_type": "execute_result"
    }
   ],
   "source": [
    "df_mar = pd.DataFrame()\n",
    "df_mar['yes'] = df[df['y']=='yes']['marital'].value_counts()\n",
    "df_mar['no'] = df[df['y']=='no']['marital'].value_counts()\n",
    "df_mar"
   ]
  },
  {
   "cell_type": "code",
   "execution_count": 170,
   "metadata": {},
   "outputs": [
    {
     "data": {
      "text/plain": [
       "<AxesSubplot:>"
      ]
     },
     "execution_count": 170,
     "metadata": {},
     "output_type": "execute_result"
    },
    {
     "data": {
      "image/png": "[encoded data removed]",
      "text/plain": [
       "<Figure size 432x288 with 1 Axes>"
      ]
     },
     "metadata": {
      "needs_background": "light"
     },
     "output_type": "display_data"
    }
   ],
   "source": [
    "df_mar.plot.bar()"
   ]
  },
  {
   "cell_type": "code",
   "execution_count": 171,
   "metadata": {},
   "outputs": [
    {
     "data": {
      "text/html": [
       "<div>\n",
       "<style scoped>\n",
       "    .dataframe tbody tr th:only-of-type {\n",
       "        vertical-align: middle;\n",
       "    }\n",
       "\n",
       "    .dataframe tbody tr th {\n",
       "        vertical-align: top;\n",
       "    }\n",
       "\n",
       "    .dataframe thead th {\n",
       "        text-align: right;\n",
       "    }\n",
       "</style>\n",
       "<table border=\"1\" class=\"dataframe\">\n",
       "  <thead>\n",
       "    <tr style=\"text-align: right;\">\n",
       "      <th></th>\n",
       "      <th>0</th>\n",
       "      <th>1</th>\n",
       "    </tr>\n",
       "  </thead>\n",
       "  <tbody>\n",
       "    <tr>\n",
       "      <th>0</th>\n",
       "      <td>married</td>\n",
       "      <td>10.157253</td>\n",
       "    </tr>\n",
       "    <tr>\n",
       "      <th>1</th>\n",
       "      <td>single</td>\n",
       "      <td>14.004149</td>\n",
       "    </tr>\n",
       "    <tr>\n",
       "      <th>2</th>\n",
       "      <td>divorced</td>\n",
       "      <td>10.320902</td>\n",
       "    </tr>\n",
       "    <tr>\n",
       "      <th>3</th>\n",
       "      <td>unknown</td>\n",
       "      <td>15.000000</td>\n",
       "    </tr>\n",
       "  </tbody>\n",
       "</table>\n",
       "</div>"
      ],
      "text/plain": [
       "          0          1\n",
       "0   married  10.157253\n",
       "1    single  14.004149\n",
       "2  divorced  10.320902\n",
       "3   unknown  15.000000"
      ]
     },
     "execution_count": 171,
     "metadata": {},
     "output_type": "execute_result"
    }
   ],
   "source": [
    "#success rate of deposits among various maritals\n",
    "mari_tit = list(df['marital'].value_counts().index)\n",
    "mari_per = []\n",
    "for mari in mari_tit:\n",
    "    percent = ((df[df['marital']== mari]['y'] == 'yes').sum()/df.marital.value_counts()[mari])*100\n",
    "    mari_per.append(percent)\n",
    "    \n",
    "mari_tit = pd.Series(mari_tit)\n",
    "mari_per = pd.Series(mari_per)\n",
    "\n",
    "pd.concat([mari_tit,mari_per], axis = 1)\n",
    "\n",
    "#singles and people with unknown marital status tend to be more possible to accept the sales campaign thatn married and divorced"
   ]
  },
  {
   "cell_type": "code",
   "execution_count": 172,
   "metadata": {},
   "outputs": [
    {
     "data": {
      "text/plain": [
       "university.degree      12168\n",
       "high.school             9515\n",
       "basic.9y                6045\n",
       "professional.course     5243\n",
       "basic.4y                4176\n",
       "basic.6y                2292\n",
       "unknown                 1731\n",
       "illiterate                18\n",
       "Name: education, dtype: int64"
      ]
     },
     "execution_count": 172,
     "metadata": {},
     "output_type": "execute_result"
    }
   ],
   "source": [
    "#education\n",
    "df['education'].value_counts()\n",
    "#majority of the bank clienele have a university degree or high school degree. illiterates are in the least number\n",
    "#among all the education backgrounds"
   ]
  },
  {
   "cell_type": "code",
   "execution_count": 173,
   "metadata": {},
   "outputs": [
    {
     "data": {
      "text/html": [
       "<div>\n",
       "<style scoped>\n",
       "    .dataframe tbody tr th:only-of-type {\n",
       "        vertical-align: middle;\n",
       "    }\n",
       "\n",
       "    .dataframe tbody tr th {\n",
       "        vertical-align: top;\n",
       "    }\n",
       "\n",
       "    .dataframe thead th {\n",
       "        text-align: right;\n",
       "    }\n",
       "</style>\n",
       "<table border=\"1\" class=\"dataframe\">\n",
       "  <thead>\n",
       "    <tr style=\"text-align: right;\">\n",
       "      <th></th>\n",
       "      <th>yes</th>\n",
       "      <th>no</th>\n",
       "    </tr>\n",
       "  </thead>\n",
       "  <tbody>\n",
       "    <tr>\n",
       "      <th>university.degree</th>\n",
       "      <td>1670</td>\n",
       "      <td>10498</td>\n",
       "    </tr>\n",
       "    <tr>\n",
       "      <th>high.school</th>\n",
       "      <td>1031</td>\n",
       "      <td>8484</td>\n",
       "    </tr>\n",
       "    <tr>\n",
       "      <th>professional.course</th>\n",
       "      <td>595</td>\n",
       "      <td>4648</td>\n",
       "    </tr>\n",
       "    <tr>\n",
       "      <th>basic.9y</th>\n",
       "      <td>473</td>\n",
       "      <td>5572</td>\n",
       "    </tr>\n",
       "    <tr>\n",
       "      <th>basic.4y</th>\n",
       "      <td>428</td>\n",
       "      <td>3748</td>\n",
       "    </tr>\n",
       "    <tr>\n",
       "      <th>unknown</th>\n",
       "      <td>251</td>\n",
       "      <td>1480</td>\n",
       "    </tr>\n",
       "    <tr>\n",
       "      <th>basic.6y</th>\n",
       "      <td>188</td>\n",
       "      <td>2104</td>\n",
       "    </tr>\n",
       "    <tr>\n",
       "      <th>illiterate</th>\n",
       "      <td>4</td>\n",
       "      <td>14</td>\n",
       "    </tr>\n",
       "  </tbody>\n",
       "</table>\n",
       "</div>"
      ],
      "text/plain": [
       "                      yes     no\n",
       "university.degree    1670  10498\n",
       "high.school          1031   8484\n",
       "professional.course   595   4648\n",
       "basic.9y              473   5572\n",
       "basic.4y              428   3748\n",
       "unknown               251   1480\n",
       "basic.6y              188   2104\n",
       "illiterate              4     14"
      ]
     },
     "execution_count": 173,
     "metadata": {},
     "output_type": "execute_result"
    }
   ],
   "source": [
    "df_edu = pd.DataFrame()\n",
    "df_edu['yes'] = df[df['y']=='yes']['education'].value_counts()\n",
    "df_edu['no'] = df[df['y']=='no']['education'].value_counts()\n",
    "df_edu"
   ]
  },
  {
   "cell_type": "code",
   "execution_count": 174,
   "metadata": {},
   "outputs": [
    {
     "data": {
      "text/plain": [
       "<AxesSubplot:>"
      ]
     },
     "execution_count": 174,
     "metadata": {},
     "output_type": "execute_result"
    },
    {
     "data": {
      "image/png": "[encoded data removed]",
      "text/plain": [
       "<Figure size 432x288 with 1 Axes>"
      ]
     },
     "metadata": {
      "needs_background": "light"
     },
     "output_type": "display_data"
    }
   ],
   "source": [
    "df_edu.plot.bar()"
   ]
  },
  {
   "cell_type": "code",
   "execution_count": 175,
   "metadata": {},
   "outputs": [
    {
     "data": {
      "text/html": [
       "<div>\n",
       "<style scoped>\n",
       "    .dataframe tbody tr th:only-of-type {\n",
       "        vertical-align: middle;\n",
       "    }\n",
       "\n",
       "    .dataframe tbody tr th {\n",
       "        vertical-align: top;\n",
       "    }\n",
       "\n",
       "    .dataframe thead th {\n",
       "        text-align: right;\n",
       "    }\n",
       "</style>\n",
       "<table border=\"1\" class=\"dataframe\">\n",
       "  <thead>\n",
       "    <tr style=\"text-align: right;\">\n",
       "      <th></th>\n",
       "      <th>0</th>\n",
       "      <th>1</th>\n",
       "    </tr>\n",
       "  </thead>\n",
       "  <tbody>\n",
       "    <tr>\n",
       "      <th>0</th>\n",
       "      <td>university.degree</td>\n",
       "      <td>13.724523</td>\n",
       "    </tr>\n",
       "    <tr>\n",
       "      <th>1</th>\n",
       "      <td>high.school</td>\n",
       "      <td>10.835523</td>\n",
       "    </tr>\n",
       "    <tr>\n",
       "      <th>2</th>\n",
       "      <td>basic.9y</td>\n",
       "      <td>7.824648</td>\n",
       "    </tr>\n",
       "    <tr>\n",
       "      <th>3</th>\n",
       "      <td>professional.course</td>\n",
       "      <td>11.348465</td>\n",
       "    </tr>\n",
       "    <tr>\n",
       "      <th>4</th>\n",
       "      <td>basic.4y</td>\n",
       "      <td>10.249042</td>\n",
       "    </tr>\n",
       "    <tr>\n",
       "      <th>5</th>\n",
       "      <td>basic.6y</td>\n",
       "      <td>8.202443</td>\n",
       "    </tr>\n",
       "    <tr>\n",
       "      <th>6</th>\n",
       "      <td>unknown</td>\n",
       "      <td>14.500289</td>\n",
       "    </tr>\n",
       "    <tr>\n",
       "      <th>7</th>\n",
       "      <td>illiterate</td>\n",
       "      <td>22.222222</td>\n",
       "    </tr>\n",
       "  </tbody>\n",
       "</table>\n",
       "</div>"
      ],
      "text/plain": [
       "                     0          1\n",
       "0    university.degree  13.724523\n",
       "1          high.school  10.835523\n",
       "2             basic.9y   7.824648\n",
       "3  professional.course  11.348465\n",
       "4             basic.4y  10.249042\n",
       "5             basic.6y   8.202443\n",
       "6              unknown  14.500289\n",
       "7           illiterate  22.222222"
      ]
     },
     "execution_count": 175,
     "metadata": {},
     "output_type": "execute_result"
    }
   ],
   "source": [
    "#success rate of deposits among various education\n",
    "edu_tit = list(df['education'].value_counts().index)\n",
    "edu_per = []\n",
    "for edu in edu_tit:\n",
    "    percent = ((df[df['education']== edu]['y'] == 'yes').sum()/df.education.value_counts()[edu])*100\n",
    "    edu_per.append(percent)\n",
    "    \n",
    "edu_tit = pd.Series(edu_tit)\n",
    "edu_per = pd.Series(edu_per)\n",
    "\n",
    "pd.concat([edu_tit,edu_per], axis = 1)\n",
    "    \n",
    "#illeterate people tend to be more accepting the campaign than anyother educational backgrounds followed by \n",
    "#people with unknown and university degree educational backgrounds"
   ]
  },
  {
   "cell_type": "code",
   "execution_count": 176,
   "metadata": {},
   "outputs": [
    {
     "data": {
      "text/plain": [
       "no         32588\n",
       "unknown     8597\n",
       "yes            3\n",
       "Name: default, dtype: int64"
      ]
     },
     "execution_count": 176,
     "metadata": {},
     "output_type": "execute_result"
    }
   ],
   "source": [
    "#default\n",
    "\n",
    "df.default.value_counts()"
   ]
  },
  {
   "cell_type": "code",
   "execution_count": 177,
   "metadata": {},
   "outputs": [
    {
     "data": {
      "text/plain": [
       "<AxesSubplot:>"
      ]
     },
     "execution_count": 177,
     "metadata": {},
     "output_type": "execute_result"
    },
    {
     "data": {
      "image/png": "[encoded data removed]",
      "text/plain": [
       "<Figure size 432x288 with 1 Axes>"
      ]
     },
     "metadata": {
      "needs_background": "light"
     },
     "output_type": "display_data"
    }
   ],
   "source": [
    "df_def = pd.DataFrame()\n",
    "df_def['no'] = df[df['y']=='no']['default'].value_counts()\n",
    "df_def['yes'] = df[df['y']=='yes']['default'].value_counts()\n",
    "\n",
    "df_def.plot.bar()"
   ]
  },
  {
   "cell_type": "code",
   "execution_count": 178,
   "metadata": {},
   "outputs": [
    {
     "data": {
      "text/html": [
       "<div>\n",
       "<style scoped>\n",
       "    .dataframe tbody tr th:only-of-type {\n",
       "        vertical-align: middle;\n",
       "    }\n",
       "\n",
       "    .dataframe tbody tr th {\n",
       "        vertical-align: top;\n",
       "    }\n",
       "\n",
       "    .dataframe thead th {\n",
       "        text-align: right;\n",
       "    }\n",
       "</style>\n",
       "<table border=\"1\" class=\"dataframe\">\n",
       "  <thead>\n",
       "    <tr style=\"text-align: right;\">\n",
       "      <th></th>\n",
       "      <th>0</th>\n",
       "      <th>1</th>\n",
       "    </tr>\n",
       "  </thead>\n",
       "  <tbody>\n",
       "    <tr>\n",
       "      <th>0</th>\n",
       "      <td>no</td>\n",
       "      <td>12.878974</td>\n",
       "    </tr>\n",
       "    <tr>\n",
       "      <th>1</th>\n",
       "      <td>unknown</td>\n",
       "      <td>5.152960</td>\n",
       "    </tr>\n",
       "    <tr>\n",
       "      <th>2</th>\n",
       "      <td>yes</td>\n",
       "      <td>0.000000</td>\n",
       "    </tr>\n",
       "  </tbody>\n",
       "</table>\n",
       "</div>"
      ],
      "text/plain": [
       "         0          1\n",
       "0       no  12.878974\n",
       "1  unknown   5.152960\n",
       "2      yes   0.000000"
      ]
     },
     "execution_count": 178,
     "metadata": {},
     "output_type": "execute_result"
    }
   ],
   "source": [
    "#success rate of deposits among various default\n",
    "def_tit = list(df['default'].value_counts().index)\n",
    "def_per = []\n",
    "for defi in def_tit:\n",
    "    percent = ((df[df['default']== defi]['y'] == 'yes').sum()/df.default.value_counts()[defi])*100\n",
    "    def_per.append(percent)\n",
    "    \n",
    "def_tit = pd.Series(def_tit)\n",
    "def_per = pd.Series(def_per)\n",
    "\n",
    "pd.concat([def_tit,def_per], axis = 1)\n",
    "    \n",
    "\n",
    "#people with no default history have more chances to accept the campaingn and people with any default history will never\n",
    "#accept the term deposit proposal"
   ]
  },
  {
   "cell_type": "code",
   "execution_count": 179,
   "metadata": {},
   "outputs": [
    {
     "data": {
      "text/plain": [
       "yes        21576\n",
       "no         18622\n",
       "unknown      990\n",
       "Name: housing, dtype: int64"
      ]
     },
     "execution_count": 179,
     "metadata": {},
     "output_type": "execute_result"
    }
   ],
   "source": [
    "#housing\n",
    "\n",
    "df.housing.value_counts()"
   ]
  },
  {
   "cell_type": "code",
   "execution_count": 180,
   "metadata": {},
   "outputs": [
    {
     "data": {
      "text/plain": [
       "<AxesSubplot:>"
      ]
     },
     "execution_count": 180,
     "metadata": {},
     "output_type": "execute_result"
    },
    {
     "data": {
      "image/png": "[encoded data removed]",
      "text/plain": [
       "<Figure size 432x288 with 1 Axes>"
      ]
     },
     "metadata": {
      "needs_background": "light"
     },
     "output_type": "display_data"
    }
   ],
   "source": [
    "hou_df = pd.DataFrame()\n",
    "hou_df['no'] = df[df['y']=='no']['housing'].value_counts()\n",
    "hou_df['yes'] = df[df['y']=='yes']['housing'].value_counts()\n",
    "hou_df.plot.bar()"
   ]
  },
  {
   "cell_type": "code",
   "execution_count": 182,
   "metadata": {},
   "outputs": [
    {
     "data": {
      "text/html": [
       "<div>\n",
       "<style scoped>\n",
       "    .dataframe tbody tr th:only-of-type {\n",
       "        vertical-align: middle;\n",
       "    }\n",
       "\n",
       "    .dataframe tbody tr th {\n",
       "        vertical-align: top;\n",
       "    }\n",
       "\n",
       "    .dataframe thead th {\n",
       "        text-align: right;\n",
       "    }\n",
       "</style>\n",
       "<table border=\"1\" class=\"dataframe\">\n",
       "  <thead>\n",
       "    <tr style=\"text-align: right;\">\n",
       "      <th></th>\n",
       "      <th>no</th>\n",
       "      <th>yes</th>\n",
       "    </tr>\n",
       "  </thead>\n",
       "  <tbody>\n",
       "    <tr>\n",
       "      <th>yes</th>\n",
       "      <td>19069</td>\n",
       "      <td>2507</td>\n",
       "    </tr>\n",
       "    <tr>\n",
       "      <th>no</th>\n",
       "      <td>16596</td>\n",
       "      <td>2026</td>\n",
       "    </tr>\n",
       "    <tr>\n",
       "      <th>unknown</th>\n",
       "      <td>883</td>\n",
       "      <td>107</td>\n",
       "    </tr>\n",
       "  </tbody>\n",
       "</table>\n",
       "</div>"
      ],
      "text/plain": [
       "            no   yes\n",
       "yes      19069  2507\n",
       "no       16596  2026\n",
       "unknown    883   107"
      ]
     },
     "execution_count": 182,
     "metadata": {},
     "output_type": "execute_result"
    }
   ],
   "source": [
    "hou_df"
   ]
  },
  {
   "cell_type": "code",
   "execution_count": 183,
   "metadata": {},
   "outputs": [
    {
     "data": {
      "text/html": [
       "<div>\n",
       "<style scoped>\n",
       "    .dataframe tbody tr th:only-of-type {\n",
       "        vertical-align: middle;\n",
       "    }\n",
       "\n",
       "    .dataframe tbody tr th {\n",
       "        vertical-align: top;\n",
       "    }\n",
       "\n",
       "    .dataframe thead th {\n",
       "        text-align: right;\n",
       "    }\n",
       "</style>\n",
       "<table border=\"1\" class=\"dataframe\">\n",
       "  <thead>\n",
       "    <tr style=\"text-align: right;\">\n",
       "      <th></th>\n",
       "      <th>0</th>\n",
       "      <th>1</th>\n",
       "    </tr>\n",
       "  </thead>\n",
       "  <tbody>\n",
       "    <tr>\n",
       "      <th>0</th>\n",
       "      <td>yes</td>\n",
       "      <td>11.619392</td>\n",
       "    </tr>\n",
       "    <tr>\n",
       "      <th>1</th>\n",
       "      <td>no</td>\n",
       "      <td>10.879605</td>\n",
       "    </tr>\n",
       "    <tr>\n",
       "      <th>2</th>\n",
       "      <td>unknown</td>\n",
       "      <td>10.808081</td>\n",
       "    </tr>\n",
       "  </tbody>\n",
       "</table>\n",
       "</div>"
      ],
      "text/plain": [
       "         0          1\n",
       "0      yes  11.619392\n",
       "1       no  10.879605\n",
       "2  unknown  10.808081"
      ]
     },
     "execution_count": 183,
     "metadata": {},
     "output_type": "execute_result"
    }
   ],
   "source": [
    "#success rate of deposits among various housing\n",
    "hou_tit = list(df['housing'].value_counts().index)\n",
    "hou_per = []\n",
    "for hou in hou_tit:\n",
    "    percent = ((df[df['housing']== hou]['y'] == 'yes').sum()/df.housing.value_counts()[hou])*100\n",
    "    hou_per.append(percent)\n",
    "    \n",
    "hou_tit = pd.Series(hou_tit)\n",
    "hou_per = pd.Series(hou_per)\n",
    "\n",
    "pd.concat([hou_tit,hou_per], axis = 1)\n",
    "\n",
    "#success rates are almost the same irrespective whether the customer is having housing loan or not"
   ]
  },
  {
   "cell_type": "code",
   "execution_count": 184,
   "metadata": {},
   "outputs": [
    {
     "data": {
      "text/plain": [
       "no         33950\n",
       "yes         6248\n",
       "unknown      990\n",
       "Name: loan, dtype: int64"
      ]
     },
     "execution_count": 184,
     "metadata": {},
     "output_type": "execute_result"
    }
   ],
   "source": [
    "#loan\n",
    "\n",
    "df.loan.value_counts()"
   ]
  },
  {
   "cell_type": "code",
   "execution_count": 185,
   "metadata": {},
   "outputs": [
    {
     "data": {
      "text/plain": [
       "<AxesSubplot:>"
      ]
     },
     "execution_count": 185,
     "metadata": {},
     "output_type": "execute_result"
    },
    {
     "data": {
      "image/png": "[encoded data removed]",
      "text/plain": [
       "<Figure size 432x288 with 1 Axes>"
      ]
     },
     "metadata": {
      "needs_background": "light"
     },
     "output_type": "display_data"
    }
   ],
   "source": [
    "lon_df = pd.DataFrame()\n",
    "lon_df['no'] = df[df['y']=='no']['loan'].value_counts()\n",
    "lon_df['yes'] = df[df['y']=='yes']['loan'].value_counts()\n",
    "lon_df.plot.bar()"
   ]
  },
  {
   "cell_type": "code",
   "execution_count": 186,
   "metadata": {},
   "outputs": [
    {
     "data": {
      "text/html": [
       "<div>\n",
       "<style scoped>\n",
       "    .dataframe tbody tr th:only-of-type {\n",
       "        vertical-align: middle;\n",
       "    }\n",
       "\n",
       "    .dataframe tbody tr th {\n",
       "        vertical-align: top;\n",
       "    }\n",
       "\n",
       "    .dataframe thead th {\n",
       "        text-align: right;\n",
       "    }\n",
       "</style>\n",
       "<table border=\"1\" class=\"dataframe\">\n",
       "  <thead>\n",
       "    <tr style=\"text-align: right;\">\n",
       "      <th></th>\n",
       "      <th>0</th>\n",
       "      <th>1</th>\n",
       "    </tr>\n",
       "  </thead>\n",
       "  <tbody>\n",
       "    <tr>\n",
       "      <th>0</th>\n",
       "      <td>no</td>\n",
       "      <td>11.340206</td>\n",
       "    </tr>\n",
       "    <tr>\n",
       "      <th>1</th>\n",
       "      <td>yes</td>\n",
       "      <td>10.931498</td>\n",
       "    </tr>\n",
       "    <tr>\n",
       "      <th>2</th>\n",
       "      <td>unknown</td>\n",
       "      <td>10.808081</td>\n",
       "    </tr>\n",
       "  </tbody>\n",
       "</table>\n",
       "</div>"
      ],
      "text/plain": [
       "         0          1\n",
       "0       no  11.340206\n",
       "1      yes  10.931498\n",
       "2  unknown  10.808081"
      ]
     },
     "execution_count": 186,
     "metadata": {},
     "output_type": "execute_result"
    }
   ],
   "source": [
    "#success rate of deposits among various loan\n",
    "lo_tit = list(df['loan'].value_counts().index)\n",
    "lo_per = []\n",
    "for lo in lo_tit:\n",
    "    percent = ((df[df['loan']== lo]['y'] == 'yes').sum()/df.loan.value_counts()[lo])*100\n",
    "    lo_per.append(percent)\n",
    "    \n",
    "lo_tit = pd.Series(lo_tit)\n",
    "lo_per = pd.Series(lo_per)\n",
    "\n",
    "pd.concat([lo_tit,lo_per], axis = 1)\n",
    "\n",
    "#success rates are almost the same irrespective whether the customer is having existing loans or not"
   ]
  },
  {
   "cell_type": "code",
   "execution_count": 187,
   "metadata": {},
   "outputs": [
    {
     "data": {
      "text/plain": [
       "cellular     26144\n",
       "telephone    15044\n",
       "Name: contact, dtype: int64"
      ]
     },
     "execution_count": 187,
     "metadata": {},
     "output_type": "execute_result"
    }
   ],
   "source": [
    "#contacts\n",
    "df.contact.value_counts()"
   ]
  },
  {
   "cell_type": "code",
   "execution_count": 188,
   "metadata": {},
   "outputs": [
    {
     "data": {
      "text/plain": [
       "<AxesSubplot:>"
      ]
     },
     "execution_count": 188,
     "metadata": {},
     "output_type": "execute_result"
    },
    {
     "data": {
      "image/png": "[encoded data removed]",
      "text/plain": [
       "<Figure size 432x288 with 1 Axes>"
      ]
     },
     "metadata": {
      "needs_background": "light"
     },
     "output_type": "display_data"
    }
   ],
   "source": [
    "cont_df = pd.DataFrame()\n",
    "cont_df['no'] = df[df['y']=='no']['contact'].value_counts()\n",
    "cont_df['yes'] = df[df['y']=='yes']['contact'].value_counts()\n",
    "cont_df.plot.bar()"
   ]
  },
  {
   "cell_type": "code",
   "execution_count": 189,
   "metadata": {},
   "outputs": [
    {
     "data": {
      "text/html": [
       "<div>\n",
       "<style scoped>\n",
       "    .dataframe tbody tr th:only-of-type {\n",
       "        vertical-align: middle;\n",
       "    }\n",
       "\n",
       "    .dataframe tbody tr th {\n",
       "        vertical-align: top;\n",
       "    }\n",
       "\n",
       "    .dataframe thead th {\n",
       "        text-align: right;\n",
       "    }\n",
       "</style>\n",
       "<table border=\"1\" class=\"dataframe\">\n",
       "  <thead>\n",
       "    <tr style=\"text-align: right;\">\n",
       "      <th></th>\n",
       "      <th>0</th>\n",
       "      <th>1</th>\n",
       "    </tr>\n",
       "  </thead>\n",
       "  <tbody>\n",
       "    <tr>\n",
       "      <th>0</th>\n",
       "      <td>cellular</td>\n",
       "      <td>14.737607</td>\n",
       "    </tr>\n",
       "    <tr>\n",
       "      <th>1</th>\n",
       "      <td>telephone</td>\n",
       "      <td>5.231321</td>\n",
       "    </tr>\n",
       "  </tbody>\n",
       "</table>\n",
       "</div>"
      ],
      "text/plain": [
       "           0          1\n",
       "0   cellular  14.737607\n",
       "1  telephone   5.231321"
      ]
     },
     "execution_count": 189,
     "metadata": {},
     "output_type": "execute_result"
    }
   ],
   "source": [
    "#success rate of deposits among various contacts\n",
    "con_tit = list(df['contact'].value_counts().index)\n",
    "con_per = []\n",
    "for con in con_tit:\n",
    "    percent = ((df[df['contact']== con]['y'] == 'yes').sum()/df.contact.value_counts()[con])*100\n",
    "    con_per.append(percent)\n",
    "    \n",
    "con_tit = pd.Series(con_tit)\n",
    "con_per = pd.Series(con_per)\n",
    "\n",
    "pd.concat([con_tit,con_per], axis = 1)\n",
    "\n",
    "#cellular contacts have more chances of success way more than tradional telephone contacts"
   ]
  },
  {
   "cell_type": "code",
   "execution_count": 190,
   "metadata": {},
   "outputs": [],
   "source": [
    "#month\n"
   ]
  },
  {
   "cell_type": "code",
   "execution_count": 191,
   "metadata": {},
   "outputs": [
    {
     "data": {
      "text/plain": [
       "may    13769\n",
       "jul     7174\n",
       "aug     6178\n",
       "jun     5318\n",
       "nov     4101\n",
       "apr     2632\n",
       "oct      718\n",
       "sep      570\n",
       "mar      546\n",
       "dec      182\n",
       "Name: month, dtype: int64"
      ]
     },
     "execution_count": 191,
     "metadata": {},
     "output_type": "execute_result"
    }
   ],
   "source": [
    "df.month.value_counts()"
   ]
  },
  {
   "cell_type": "code",
   "execution_count": 192,
   "metadata": {},
   "outputs": [
    {
     "name": "stderr",
     "output_type": "stream",
     "text": [
      "C:\\Users\\abyge\\anaconda3\\lib\\site-packages\\seaborn\\_decorators.py:36: FutureWarning: Pass the following variable as a keyword arg: x. From version 0.12, the only valid positional argument will be `data`, and passing other arguments without an explicit keyword will result in an error or misinterpretation.\n",
      "  warnings.warn(\n"
     ]
    },
    {
     "data": {
      "text/plain": [
       "<AxesSubplot:xlabel='month', ylabel='count'>"
      ]
     },
     "execution_count": 192,
     "metadata": {},
     "output_type": "execute_result"
    },
    {
     "data": {
      "image/png": "[encoded data removed]",
      "text/plain": [
       "<Figure size 432x288 with 1 Axes>"
      ]
     },
     "metadata": {
      "needs_background": "light"
     },
     "output_type": "display_data"
    }
   ],
   "source": [
    "sns.countplot(df.month,hue= df.y)"
   ]
  },
  {
   "cell_type": "code",
   "execution_count": 193,
   "metadata": {},
   "outputs": [
    {
     "data": {
      "text/html": [
       "<div>\n",
       "<style scoped>\n",
       "    .dataframe tbody tr th:only-of-type {\n",
       "        vertical-align: middle;\n",
       "    }\n",
       "\n",
       "    .dataframe tbody tr th {\n",
       "        vertical-align: top;\n",
       "    }\n",
       "\n",
       "    .dataframe thead th {\n",
       "        text-align: right;\n",
       "    }\n",
       "</style>\n",
       "<table border=\"1\" class=\"dataframe\">\n",
       "  <thead>\n",
       "    <tr style=\"text-align: right;\">\n",
       "      <th></th>\n",
       "      <th>0</th>\n",
       "      <th>1</th>\n",
       "    </tr>\n",
       "  </thead>\n",
       "  <tbody>\n",
       "    <tr>\n",
       "      <th>0</th>\n",
       "      <td>may</td>\n",
       "      <td>6.434745</td>\n",
       "    </tr>\n",
       "    <tr>\n",
       "      <th>1</th>\n",
       "      <td>jul</td>\n",
       "      <td>9.046557</td>\n",
       "    </tr>\n",
       "    <tr>\n",
       "      <th>2</th>\n",
       "      <td>aug</td>\n",
       "      <td>10.602137</td>\n",
       "    </tr>\n",
       "    <tr>\n",
       "      <th>3</th>\n",
       "      <td>jun</td>\n",
       "      <td>10.511470</td>\n",
       "    </tr>\n",
       "    <tr>\n",
       "      <th>4</th>\n",
       "      <td>nov</td>\n",
       "      <td>10.143867</td>\n",
       "    </tr>\n",
       "    <tr>\n",
       "      <th>5</th>\n",
       "      <td>apr</td>\n",
       "      <td>20.478723</td>\n",
       "    </tr>\n",
       "    <tr>\n",
       "      <th>6</th>\n",
       "      <td>oct</td>\n",
       "      <td>43.871866</td>\n",
       "    </tr>\n",
       "    <tr>\n",
       "      <th>7</th>\n",
       "      <td>sep</td>\n",
       "      <td>44.912281</td>\n",
       "    </tr>\n",
       "    <tr>\n",
       "      <th>8</th>\n",
       "      <td>mar</td>\n",
       "      <td>50.549451</td>\n",
       "    </tr>\n",
       "    <tr>\n",
       "      <th>9</th>\n",
       "      <td>dec</td>\n",
       "      <td>48.901099</td>\n",
       "    </tr>\n",
       "  </tbody>\n",
       "</table>\n",
       "</div>"
      ],
      "text/plain": [
       "     0          1\n",
       "0  may   6.434745\n",
       "1  jul   9.046557\n",
       "2  aug  10.602137\n",
       "3  jun  10.511470\n",
       "4  nov  10.143867\n",
       "5  apr  20.478723\n",
       "6  oct  43.871866\n",
       "7  sep  44.912281\n",
       "8  mar  50.549451\n",
       "9  dec  48.901099"
      ]
     },
     "execution_count": 193,
     "metadata": {},
     "output_type": "execute_result"
    }
   ],
   "source": [
    "#success rate of deposits among various months\n",
    "mo_tit = list(df['month'].value_counts().index)\n",
    "mo_per = []\n",
    "for mo in mo_tit:\n",
    "    percent = ((df[df['month']== mo]['y'] == 'yes').sum()/df.month.value_counts()[mo])*100\n",
    "    mo_per.append(percent)\n",
    "    \n",
    "mo_tit = pd.Series(mo_tit)\n",
    "mo_per = pd.Series(mo_per)\n",
    "\n",
    "pd.concat([mo_tit,mo_per], axis = 1)\n",
    "\n",
    "#campaign is most successful in months october, march, september and december and least possible\n",
    "#May"
   ]
  },
  {
   "cell_type": "code",
   "execution_count": 194,
   "metadata": {},
   "outputs": [
    {
     "data": {
      "text/plain": [
       "<AxesSubplot:>"
      ]
     },
     "execution_count": 194,
     "metadata": {},
     "output_type": "execute_result"
    },
    {
     "data": {
      "image/png": "[encoded data removed]",
      "text/plain": [
       "<Figure size 432x288 with 1 Axes>"
      ]
     },
     "metadata": {
      "needs_background": "light"
     },
     "output_type": "display_data"
    }
   ],
   "source": [
    "#day of week\n",
    "dow_df = pd.DataFrame()\n",
    "dow_df['no'] = df[df['y']=='no']['day_of_week'].value_counts()\n",
    "dow_df['yes'] = df[df['y']=='yes']['day_of_week'].value_counts()\n",
    "dow_df.plot.bar()"
   ]
  },
  {
   "cell_type": "code",
   "execution_count": 195,
   "metadata": {},
   "outputs": [
    {
     "data": {
      "text/html": [
       "<div>\n",
       "<style scoped>\n",
       "    .dataframe tbody tr th:only-of-type {\n",
       "        vertical-align: middle;\n",
       "    }\n",
       "\n",
       "    .dataframe tbody tr th {\n",
       "        vertical-align: top;\n",
       "    }\n",
       "\n",
       "    .dataframe thead th {\n",
       "        text-align: right;\n",
       "    }\n",
       "</style>\n",
       "<table border=\"1\" class=\"dataframe\">\n",
       "  <thead>\n",
       "    <tr style=\"text-align: right;\">\n",
       "      <th></th>\n",
       "      <th>0</th>\n",
       "      <th>1</th>\n",
       "    </tr>\n",
       "  </thead>\n",
       "  <tbody>\n",
       "    <tr>\n",
       "      <th>0</th>\n",
       "      <td>thu</td>\n",
       "      <td>12.118752</td>\n",
       "    </tr>\n",
       "    <tr>\n",
       "      <th>1</th>\n",
       "      <td>mon</td>\n",
       "      <td>9.948320</td>\n",
       "    </tr>\n",
       "    <tr>\n",
       "      <th>2</th>\n",
       "      <td>wed</td>\n",
       "      <td>11.667076</td>\n",
       "    </tr>\n",
       "    <tr>\n",
       "      <th>3</th>\n",
       "      <td>tue</td>\n",
       "      <td>11.779975</td>\n",
       "    </tr>\n",
       "    <tr>\n",
       "      <th>4</th>\n",
       "      <td>fri</td>\n",
       "      <td>10.808739</td>\n",
       "    </tr>\n",
       "  </tbody>\n",
       "</table>\n",
       "</div>"
      ],
      "text/plain": [
       "     0          1\n",
       "0  thu  12.118752\n",
       "1  mon   9.948320\n",
       "2  wed  11.667076\n",
       "3  tue  11.779975\n",
       "4  fri  10.808739"
      ]
     },
     "execution_count": 195,
     "metadata": {},
     "output_type": "execute_result"
    }
   ],
   "source": [
    "#success rate of deposits among various day of week\n",
    "day_tit = list(df['day_of_week'].value_counts().index)\n",
    "day_per = []\n",
    "for day in day_tit:\n",
    "    percent = ((df[df['day_of_week']== day]['y'] == 'yes').sum()/df.day_of_week.value_counts()[day])*100\n",
    "    day_per.append(percent)\n",
    "    \n",
    "day_tit = pd.Series(day_tit)\n",
    "day_per = pd.Series(day_per)\n",
    "\n",
    "pd.concat([day_tit,day_per], axis = 1)\n",
    "\n",
    "#there are almost equal chance of converting a customer on all days of a week"
   ]
  },
  {
   "cell_type": "code",
   "execution_count": 196,
   "metadata": {},
   "outputs": [
    {
     "data": {
      "text/plain": [
       "thu    8623\n",
       "mon    8514\n",
       "wed    8134\n",
       "tue    8090\n",
       "fri    7827\n",
       "Name: day_of_week, dtype: int64"
      ]
     },
     "execution_count": 196,
     "metadata": {},
     "output_type": "execute_result"
    }
   ],
   "source": [
    "df.day_of_week.value_counts()"
   ]
  },
  {
   "cell_type": "code",
   "execution_count": 197,
   "metadata": {},
   "outputs": [
    {
     "data": {
      "text/plain": [
       "nonexistent    35563\n",
       "failure         4252\n",
       "success         1373\n",
       "Name: poutcome, dtype: int64"
      ]
     },
     "execution_count": 197,
     "metadata": {},
     "output_type": "execute_result"
    }
   ],
   "source": [
    "#poutcome\n",
    "df.poutcome.value_counts()"
   ]
  },
  {
   "cell_type": "code",
   "execution_count": 198,
   "metadata": {},
   "outputs": [
    {
     "name": "stderr",
     "output_type": "stream",
     "text": [
      "C:\\Users\\abyge\\anaconda3\\lib\\site-packages\\seaborn\\_decorators.py:36: FutureWarning: Pass the following variable as a keyword arg: x. From version 0.12, the only valid positional argument will be `data`, and passing other arguments without an explicit keyword will result in an error or misinterpretation.\n",
      "  warnings.warn(\n"
     ]
    },
    {
     "data": {
      "text/plain": [
       "<AxesSubplot:xlabel='poutcome', ylabel='count'>"
      ]
     },
     "execution_count": 198,
     "metadata": {},
     "output_type": "execute_result"
    },
    {
     "data": {
      "image/png": "[encoded data removed]",
      "text/plain": [
       "<Figure size 432x288 with 1 Axes>"
      ]
     },
     "metadata": {
      "needs_background": "light"
     },
     "output_type": "display_data"
    }
   ],
   "source": [
    "sns.countplot(df.poutcome, hue= df.y)"
   ]
  },
  {
   "cell_type": "code",
   "execution_count": 199,
   "metadata": {},
   "outputs": [
    {
     "data": {
      "text/html": [
       "<div>\n",
       "<style scoped>\n",
       "    .dataframe tbody tr th:only-of-type {\n",
       "        vertical-align: middle;\n",
       "    }\n",
       "\n",
       "    .dataframe tbody tr th {\n",
       "        vertical-align: top;\n",
       "    }\n",
       "\n",
       "    .dataframe thead th {\n",
       "        text-align: right;\n",
       "    }\n",
       "</style>\n",
       "<table border=\"1\" class=\"dataframe\">\n",
       "  <thead>\n",
       "    <tr style=\"text-align: right;\">\n",
       "      <th></th>\n",
       "      <th>0</th>\n",
       "      <th>1</th>\n",
       "    </tr>\n",
       "  </thead>\n",
       "  <tbody>\n",
       "    <tr>\n",
       "      <th>0</th>\n",
       "      <td>nonexistent</td>\n",
       "      <td>8.832213</td>\n",
       "    </tr>\n",
       "    <tr>\n",
       "      <th>1</th>\n",
       "      <td>failure</td>\n",
       "      <td>14.228598</td>\n",
       "    </tr>\n",
       "    <tr>\n",
       "      <th>2</th>\n",
       "      <td>success</td>\n",
       "      <td>65.112891</td>\n",
       "    </tr>\n",
       "  </tbody>\n",
       "</table>\n",
       "</div>"
      ],
      "text/plain": [
       "             0          1\n",
       "0  nonexistent   8.832213\n",
       "1      failure  14.228598\n",
       "2      success  65.112891"
      ]
     },
     "execution_count": 199,
     "metadata": {},
     "output_type": "execute_result"
    }
   ],
   "source": [
    "#success rate of deposits among various poutcome\n",
    "po_tit = list(df['poutcome'].value_counts().index)\n",
    "po_per = []\n",
    "for po in po_tit:\n",
    "    percent = ((df[df['poutcome']== po]['y'] == 'yes').sum()/df.poutcome.value_counts()[po])*100\n",
    "    po_per.append(percent)\n",
    "    \n",
    "po_tit = pd.Series(po_tit)\n",
    "po_per = pd.Series(po_per)\n",
    "\n",
    "pd.concat([po_tit,po_per], axis = 1)\n",
    "    \n",
    "#65 percent of the people who accepted the previous campaign accepted the proposal for term deposit too"
   ]
  },
  {
   "cell_type": "code",
   "execution_count": 200,
   "metadata": {},
   "outputs": [],
   "source": [
    "#numerical values"
   ]
  },
  {
   "cell_type": "code",
   "execution_count": 201,
   "metadata": {},
   "outputs": [
    {
     "data": {
      "text/plain": [
       "count    41188.00000\n",
       "mean        40.02406\n",
       "std         10.42125\n",
       "min         17.00000\n",
       "25%         32.00000\n",
       "50%         38.00000\n",
       "75%         47.00000\n",
       "max         98.00000\n",
       "Name: age, dtype: float64"
      ]
     },
     "execution_count": 201,
     "metadata": {},
     "output_type": "execute_result"
    }
   ],
   "source": [
    "df.age.describe()"
   ]
  },
  {
   "cell_type": "code",
   "execution_count": 202,
   "metadata": {},
   "outputs": [
    {
     "data": {
      "text/plain": [
       "{'whiskers': [<matplotlib.lines.Line2D at 0x2c41839b400>,\n",
       "  <matplotlib.lines.Line2D at 0x2c416353640>],\n",
       " 'caps': [<matplotlib.lines.Line2D at 0x2c418508bb0>,\n",
       "  <matplotlib.lines.Line2D at 0x2c418508b80>],\n",
       " 'boxes': [<matplotlib.lines.Line2D at 0x2c41839b0d0>],\n",
       " 'medians': [<matplotlib.lines.Line2D at 0x2c417e08f10>],\n",
       " 'fliers': [<matplotlib.lines.Line2D at 0x2c417e08c40>],\n",
       " 'means': []}"
      ]
     },
     "execution_count": 202,
     "metadata": {},
     "output_type": "execute_result"
    },
    {
     "data": {
      "image/png": "[encoded data removed]",
      "text/plain": [
       "<Figure size 432x288 with 1 Axes>"
      ]
     },
     "metadata": {
      "needs_background": "light"
     },
     "output_type": "display_data"
    }
   ],
   "source": [
    "plt.title('Age Distribution')\n",
    "plt.boxplot(df.age)"
   ]
  },
  {
   "cell_type": "code",
   "execution_count": 203,
   "metadata": {},
   "outputs": [
    {
     "name": "stderr",
     "output_type": "stream",
     "text": [
      "C:\\Users\\abyge\\anaconda3\\lib\\site-packages\\seaborn\\distributions.py:2551: FutureWarning: `distplot` is a deprecated function and will be removed in a future version. Please adapt your code to use either `displot` (a figure-level function with similar flexibility) or `histplot` (an axes-level function for histograms).\n",
      "  warnings.warn(msg, FutureWarning)\n"
     ]
    },
    {
     "data": {
      "text/plain": [
       "<AxesSubplot:xlabel='age', ylabel='Density'>"
      ]
     },
     "execution_count": 203,
     "metadata": {},
     "output_type": "execute_result"
    },
    {
     "data": {
      "image/png": "[encoded data removed]",
      "text/plain": [
       "<Figure size 432x288 with 1 Axes>"
      ]
     },
     "metadata": {
      "needs_background": "light"
     },
     "output_type": "display_data"
    }
   ],
   "source": [
    "sns.distplot(df.age)"
   ]
  },
  {
   "cell_type": "code",
   "execution_count": 204,
   "metadata": {},
   "outputs": [
    {
     "name": "stdout",
     "output_type": "stream",
     "text": [
      "98 \n",
      " 17\n"
     ]
    }
   ],
   "source": [
    "print(max(df.age),'\\n',min(df.age))"
   ]
  },
  {
   "cell_type": "code",
   "execution_count": 205,
   "metadata": {},
   "outputs": [
    {
     "data": {
      "text/plain": [
       "0"
      ]
     },
     "execution_count": 205,
     "metadata": {},
     "output_type": "execute_result"
    }
   ],
   "source": [
    "df.age.isna().sum()"
   ]
  },
  {
   "cell_type": "code",
   "execution_count": 206,
   "metadata": {},
   "outputs": [
    {
     "data": {
      "text/plain": [
       "1     17642\n",
       "2     10570\n",
       "3      5341\n",
       "4      2651\n",
       "5      1599\n",
       "6       979\n",
       "7       629\n",
       "8       400\n",
       "9       283\n",
       "10      225\n",
       "11      177\n",
       "12      125\n",
       "13       92\n",
       "14       69\n",
       "17       58\n",
       "15       51\n",
       "16       51\n",
       "18       33\n",
       "20       30\n",
       "19       26\n",
       "21       24\n",
       "22       17\n",
       "23       16\n",
       "24       15\n",
       "27       11\n",
       "29       10\n",
       "25        8\n",
       "26        8\n",
       "28        8\n",
       "30        7\n",
       "31        7\n",
       "35        5\n",
       "33        4\n",
       "32        4\n",
       "34        3\n",
       "40        2\n",
       "42        2\n",
       "43        2\n",
       "37        1\n",
       "39        1\n",
       "41        1\n",
       "56        1\n",
       "Name: campaign, dtype: int64"
      ]
     },
     "execution_count": 206,
     "metadata": {},
     "output_type": "execute_result"
    }
   ],
   "source": [
    "#campaign column\n",
    "df.campaign.value_counts()"
   ]
  },
  {
   "cell_type": "code",
   "execution_count": 207,
   "metadata": {},
   "outputs": [
    {
     "name": "stderr",
     "output_type": "stream",
     "text": [
      "C:\\Users\\abyge\\anaconda3\\lib\\site-packages\\seaborn\\_decorators.py:36: FutureWarning: Pass the following variable as a keyword arg: x. From version 0.12, the only valid positional argument will be `data`, and passing other arguments without an explicit keyword will result in an error or misinterpretation.\n",
      "  warnings.warn(\n"
     ]
    },
    {
     "data": {
      "text/plain": [
       "<AxesSubplot:xlabel='campaign', ylabel='count'>"
      ]
     },
     "execution_count": 207,
     "metadata": {},
     "output_type": "execute_result"
    },
    {
     "data": {
      "image/png": "[encoded data removed]",
      "text/plain": [
       "<Figure size 1080x360 with 1 Axes>"
      ]
     },
     "metadata": {
      "needs_background": "light"
     },
     "output_type": "display_data"
    }
   ],
   "source": [
    "plt.figure(figsize = (15,5))\n",
    "sns.countplot(df.campaign,hue = df.y)\n",
    "#most of the customer are called over a few times only. The majority was ony called only one time only while\n",
    "#more than 50% of these cases where converted to deposits. It is very less to call customers more than\n",
    "#5 times for sales and interestingly more calls means less chance of converting"
   ]
  },
  {
   "cell_type": "code",
   "execution_count": 208,
   "metadata": {},
   "outputs": [
    {
     "data": {
      "text/plain": [
       "999    39673\n",
       "3        439\n",
       "6        412\n",
       "4        118\n",
       "9         64\n",
       "2         61\n",
       "7         60\n",
       "12        58\n",
       "10        52\n",
       "5         46\n",
       "13        36\n",
       "11        28\n",
       "1         26\n",
       "15        24\n",
       "14        20\n",
       "8         18\n",
       "0         15\n",
       "16        11\n",
       "17         8\n",
       "18         7\n",
       "19         3\n",
       "22         3\n",
       "21         2\n",
       "26         1\n",
       "20         1\n",
       "25         1\n",
       "27         1\n",
       "Name: pdays, dtype: int64"
      ]
     },
     "execution_count": 208,
     "metadata": {},
     "output_type": "execute_result"
    }
   ],
   "source": [
    "#pdays number of days passed after last contact\n",
    "df.pdays.value_counts()"
   ]
  },
  {
   "cell_type": "code",
   "execution_count": 210,
   "metadata": {},
   "outputs": [
    {
     "name": "stdout",
     "output_type": "stream",
     "text": [
      "People contacted earlier = 1515\n",
      "People contacted for the first time = 39673\n",
      "Percentage of Cusomters contacting first time = 0.9632174419733903\n"
     ]
    }
   ],
   "source": [
    "dfpdays = df[df['pdays']!=999]\n",
    "ex_cust = len(dfpdays)\n",
    "first_cust = len(df[df['pdays']==999])\n",
    "per_new_con = first_cust/(ex_cust+first_cust)\n",
    "print('People contacted earlier = {}'.format(ex_cust))\n",
    "print('People contacted for the first time = {}'.format(first_cust))\n",
    "print('Percentage of Cusomters contacting first time = {}'.format(per_new_con))\n",
    "#new customers are the majority among people contacted for this campaign\n",
    "#about 89 percentage of all customers was never contacted before"
   ]
  },
  {
   "cell_type": "code",
   "execution_count": 211,
   "metadata": {},
   "outputs": [
    {
     "name": "stderr",
     "output_type": "stream",
     "text": [
      "C:\\Users\\abyge\\anaconda3\\lib\\site-packages\\seaborn\\_decorators.py:36: FutureWarning: Pass the following variable as a keyword arg: x. From version 0.12, the only valid positional argument will be `data`, and passing other arguments without an explicit keyword will result in an error or misinterpretation.\n",
      "  warnings.warn(\n"
     ]
    },
    {
     "data": {
      "text/plain": [
       "<AxesSubplot:xlabel='pdays', ylabel='count'>"
      ]
     },
     "execution_count": 211,
     "metadata": {},
     "output_type": "execute_result"
    },
    {
     "data": {
      "image/png": "[encoded data removed]",
      "text/plain": [
       "<Figure size 1080x360 with 1 Axes>"
      ]
     },
     "metadata": {
      "needs_background": "light"
     },
     "output_type": "display_data"
    }
   ],
   "source": [
    "plt.figure(figsize = (15,5))\n",
    "sns.countplot(dfpdays.pdays,hue= dfpdays.y)"
   ]
  },
  {
   "cell_type": "code",
   "execution_count": 212,
   "metadata": {},
   "outputs": [
    {
     "data": {
      "text/html": [
       "<div>\n",
       "<style scoped>\n",
       "    .dataframe tbody tr th:only-of-type {\n",
       "        vertical-align: middle;\n",
       "    }\n",
       "\n",
       "    .dataframe tbody tr th {\n",
       "        vertical-align: top;\n",
       "    }\n",
       "\n",
       "    .dataframe thead th {\n",
       "        text-align: right;\n",
       "    }\n",
       "</style>\n",
       "<table border=\"1\" class=\"dataframe\">\n",
       "  <thead>\n",
       "    <tr style=\"text-align: right;\">\n",
       "      <th></th>\n",
       "      <th>pdays</th>\n",
       "    </tr>\n",
       "    <tr>\n",
       "      <th>y</th>\n",
       "      <th></th>\n",
       "    </tr>\n",
       "  </thead>\n",
       "  <tbody>\n",
       "    <tr>\n",
       "      <th>no</th>\n",
       "      <td>36000</td>\n",
       "    </tr>\n",
       "    <tr>\n",
       "      <th>yes</th>\n",
       "      <td>3673</td>\n",
       "    </tr>\n",
       "  </tbody>\n",
       "</table>\n",
       "</div>"
      ],
      "text/plain": [
       "     pdays\n",
       "y         \n",
       "no   36000\n",
       "yes   3673"
      ]
     },
     "execution_count": 212,
     "metadata": {},
     "output_type": "execute_result"
    }
   ],
   "source": [
    "dfpday_out = df[df['pdays']==999]\n",
    "dfpday_out[['pdays','y']].groupby('y').count()"
   ]
  },
  {
   "cell_type": "code",
   "execution_count": 213,
   "metadata": {},
   "outputs": [
    {
     "data": {
      "text/plain": [
       "1     17642\n",
       "2     10570\n",
       "3      5341\n",
       "4      2651\n",
       "5      1599\n",
       "6       979\n",
       "7       629\n",
       "8       400\n",
       "9       283\n",
       "10      225\n",
       "11      177\n",
       "12      125\n",
       "13       92\n",
       "14       69\n",
       "17       58\n",
       "15       51\n",
       "16       51\n",
       "18       33\n",
       "20       30\n",
       "19       26\n",
       "21       24\n",
       "22       17\n",
       "23       16\n",
       "24       15\n",
       "27       11\n",
       "29       10\n",
       "25        8\n",
       "26        8\n",
       "28        8\n",
       "30        7\n",
       "31        7\n",
       "35        5\n",
       "33        4\n",
       "32        4\n",
       "34        3\n",
       "40        2\n",
       "42        2\n",
       "43        2\n",
       "37        1\n",
       "39        1\n",
       "41        1\n",
       "56        1\n",
       "Name: campaign, dtype: int64"
      ]
     },
     "execution_count": 213,
     "metadata": {},
     "output_type": "execute_result"
    }
   ],
   "source": [
    "len(df[df['campaign']==1])\n",
    "df.campaign.value_counts()"
   ]
  },
  {
   "cell_type": "code",
   "execution_count": 214,
   "metadata": {},
   "outputs": [
    {
     "data": {
      "text/plain": [
       "0    35563\n",
       "1     4561\n",
       "2      754\n",
       "3      216\n",
       "4       70\n",
       "5       18\n",
       "6        5\n",
       "7        1\n",
       "Name: previous, dtype: int64"
      ]
     },
     "execution_count": 214,
     "metadata": {},
     "output_type": "execute_result"
    }
   ],
   "source": [
    "#previous\n",
    "df.previous.value_counts()"
   ]
  },
  {
   "cell_type": "code",
   "execution_count": 215,
   "metadata": {},
   "outputs": [
    {
     "name": "stderr",
     "output_type": "stream",
     "text": [
      "C:\\Users\\abyge\\anaconda3\\lib\\site-packages\\seaborn\\_decorators.py:36: FutureWarning: Pass the following variable as a keyword arg: x. From version 0.12, the only valid positional argument will be `data`, and passing other arguments without an explicit keyword will result in an error or misinterpretation.\n",
      "  warnings.warn(\n",
      "C:\\Users\\abyge\\anaconda3\\lib\\site-packages\\seaborn\\_decorators.py:36: FutureWarning: Pass the following variable as a keyword arg: x. From version 0.12, the only valid positional argument will be `data`, and passing other arguments without an explicit keyword will result in an error or misinterpretation.\n",
      "  warnings.warn(\n"
     ]
    },
    {
     "data": {
      "text/plain": [
       "<AxesSubplot:title={'center':'Contacts on previous campaign'}, xlabel='previous', ylabel='count'>"
      ]
     },
     "execution_count": 215,
     "metadata": {},
     "output_type": "execute_result"
    },
    {
     "data": {
      "image/png": "[encoded data removed]",
      "text/plain": [
       "<Figure size 1080x360 with 2 Axes>"
      ]
     },
     "metadata": {
      "needs_background": "light"
     },
     "output_type": "display_data"
    }
   ],
   "source": [
    "plt.figure(figsize = (15,5))\n",
    "plt.subplot(2,1,1)\n",
    "plt.title('Contacts on current campaign')\n",
    "sns.countplot(df.campaign,hue = df.y)\n",
    "plt.subplot(2,1,2)\n",
    "plt.title('Contacts on previous campaign')\n",
    "sns.countplot(df.previous,hue=  df.y)\n"
   ]
  },
  {
   "cell_type": "code",
   "execution_count": 217,
   "metadata": {},
   "outputs": [
    {
     "name": "stderr",
     "output_type": "stream",
     "text": [
      "C:\\Users\\abyge\\anaconda3\\lib\\site-packages\\seaborn\\_decorators.py:36: FutureWarning: Pass the following variable as a keyword arg: x. From version 0.12, the only valid positional argument will be `data`, and passing other arguments without an explicit keyword will result in an error or misinterpretation.\n",
      "  warnings.warn(\n",
      "C:\\Users\\abyge\\anaconda3\\lib\\site-packages\\seaborn\\_decorators.py:36: FutureWarning: Pass the following variable as a keyword arg: x. From version 0.12, the only valid positional argument will be `data`, and passing other arguments without an explicit keyword will result in an error or misinterpretation.\n",
      "  warnings.warn(\n"
     ]
    },
    {
     "data": {
      "text/plain": [
       "<AxesSubplot:title={'center':'Contacts on previous campaign'}, xlabel='previous', ylabel='count'>"
      ]
     },
     "execution_count": 217,
     "metadata": {},
     "output_type": "execute_result"
    },
    {
     "data": {
      "image/png": "[encoded data removed]",
      "text/plain": [
       "<Figure size 1080x360 with 2 Axes>"
      ]
     },
     "metadata": {
      "needs_background": "light"
     },
     "output_type": "display_data"
    }
   ],
   "source": [
    "plt.figure(figsize = (15,5))\n",
    "plt.subplot(2,1,1)\n",
    "plt.title('Contacts on current campaign')\n",
    "sns.countplot(df[df['campaign']<=10]['campaign'],hue = df[df['campaign']<=10]['y'])\n",
    "plt.subplot(2,1,2)\n",
    "plt.title('Contacts on previous campaign')\n",
    "sns.countplot(df.previous,hue=  df.y)"
   ]
  },
  {
   "cell_type": "code",
   "execution_count": 218,
   "metadata": {},
   "outputs": [
    {
     "data": {
      "text/plain": [
       " 1.4    16234\n",
       "-1.8     9184\n",
       " 1.1     7763\n",
       "-0.1     3683\n",
       "-2.9     1663\n",
       "-3.4     1071\n",
       "-1.7      773\n",
       "-1.1      635\n",
       "-3.0      172\n",
       "-0.2       10\n",
       "Name: emp.var.rate, dtype: int64"
      ]
     },
     "execution_count": 218,
     "metadata": {},
     "output_type": "execute_result"
    }
   ],
   "source": [
    "#emp.var.rate\n",
    "df['emp.var.rate'].value_counts()"
   ]
  },
  {
   "cell_type": "code",
   "execution_count": 219,
   "metadata": {},
   "outputs": [
    {
     "name": "stderr",
     "output_type": "stream",
     "text": [
      "C:\\Users\\abyge\\anaconda3\\lib\\site-packages\\seaborn\\_decorators.py:36: FutureWarning: Pass the following variable as a keyword arg: x. From version 0.12, the only valid positional argument will be `data`, and passing other arguments without an explicit keyword will result in an error or misinterpretation.\n",
      "  warnings.warn(\n"
     ]
    },
    {
     "data": {
      "text/plain": [
       "<AxesSubplot:xlabel='emp.var.rate', ylabel='count'>"
      ]
     },
     "execution_count": 219,
     "metadata": {},
     "output_type": "execute_result"
    },
    {
     "data": {
      "image/png": "[encoded data removed]",
      "text/plain": [
       "<Figure size 432x288 with 1 Axes>"
      ]
     },
     "metadata": {
      "needs_background": "light"
     },
     "output_type": "display_data"
    }
   ],
   "source": [
    "sns.countplot(df['emp.var.rate'], hue = df.y)"
   ]
  },
  {
   "cell_type": "code",
   "execution_count": 220,
   "metadata": {},
   "outputs": [
    {
     "data": {
      "text/plain": [
       "93.994    7763\n",
       "93.918    6685\n",
       "92.893    5794\n",
       "93.444    5175\n",
       "94.465    4374\n",
       "93.200    3616\n",
       "93.075    2458\n",
       "92.201     770\n",
       "92.963     715\n",
       "92.431     447\n",
       "92.649     357\n",
       "94.215     311\n",
       "94.199     303\n",
       "92.843     282\n",
       "92.379     267\n",
       "93.369     264\n",
       "94.027     233\n",
       "94.055     229\n",
       "93.876     212\n",
       "94.601     204\n",
       "92.469     178\n",
       "93.749     174\n",
       "92.713     172\n",
       "94.767     128\n",
       "93.798      67\n",
       "92.756      10\n",
       "Name: cons.price.idx, dtype: int64"
      ]
     },
     "execution_count": 220,
     "metadata": {},
     "output_type": "execute_result"
    }
   ],
   "source": [
    "#cons.price.idx\n",
    "df['cons.price.idx'].value_counts()"
   ]
  },
  {
   "cell_type": "code",
   "execution_count": 221,
   "metadata": {},
   "outputs": [
    {
     "data": {
      "text/plain": [
       "<seaborn.axisgrid.FacetGrid at 0x2c420511790>"
      ]
     },
     "execution_count": 221,
     "metadata": {},
     "output_type": "execute_result"
    },
    {
     "data": {
      "image/png": "[encoded data removed]",
      "text/plain": [
       "<Figure size 360x360 with 1 Axes>"
      ]
     },
     "metadata": {
      "needs_background": "light"
     },
     "output_type": "display_data"
    }
   ],
   "source": [
    "sns.displot(df['cons.price.idx'])"
   ]
  },
  {
   "cell_type": "code",
   "execution_count": 222,
   "metadata": {},
   "outputs": [
    {
     "name": "stderr",
     "output_type": "stream",
     "text": [
      "C:\\Users\\abyge\\anaconda3\\lib\\site-packages\\seaborn\\_decorators.py:36: FutureWarning: Pass the following variable as a keyword arg: x. From version 0.12, the only valid positional argument will be `data`, and passing other arguments without an explicit keyword will result in an error or misinterpretation.\n",
      "  warnings.warn(\n"
     ]
    },
    {
     "data": {
      "text/plain": [
       "<AxesSubplot:xlabel='cons.price.idx', ylabel='count'>"
      ]
     },
     "execution_count": 222,
     "metadata": {},
     "output_type": "execute_result"
    },
    {
     "data": {
      "image/png": "[encoded data removed]",
      "text/plain": [
       "<Figure size 1080x360 with 1 Axes>"
      ]
     },
     "metadata": {
      "needs_background": "light"
     },
     "output_type": "display_data"
    }
   ],
   "source": [
    "plt.figure(figsize = (15,5))\n",
    "plt.xticks(rotation = 90)\n",
    "sns.countplot(df['cons.price.idx'],hue = df.y)"
   ]
  },
  {
   "cell_type": "code",
   "execution_count": 223,
   "metadata": {},
   "outputs": [
    {
     "data": {
      "text/plain": [
       "-36.4    7763\n",
       "-42.7    6685\n",
       "-46.2    5794\n",
       "-36.1    5175\n",
       "-41.8    4374\n",
       "-42.0    3616\n",
       "-47.1    2458\n",
       "-31.4     770\n",
       "-40.8     715\n",
       "-26.9     447\n",
       "-30.1     357\n",
       "-40.3     311\n",
       "-37.5     303\n",
       "-50.0     282\n",
       "-29.8     267\n",
       "-34.8     264\n",
       "-38.3     233\n",
       "-39.8     229\n",
       "-40.0     212\n",
       "-49.5     204\n",
       "-33.6     178\n",
       "-34.6     174\n",
       "-33.0     172\n",
       "-50.8     128\n",
       "-40.4      67\n",
       "-45.9      10\n",
       "Name: cons.conf.idx, dtype: int64"
      ]
     },
     "execution_count": 223,
     "metadata": {},
     "output_type": "execute_result"
    }
   ],
   "source": [
    "#cons.conf.idx\n",
    "df['cons.conf.idx'].value_counts()"
   ]
  },
  {
   "cell_type": "code",
   "execution_count": 224,
   "metadata": {},
   "outputs": [
    {
     "name": "stderr",
     "output_type": "stream",
     "text": [
      "C:\\Users\\abyge\\anaconda3\\lib\\site-packages\\seaborn\\_decorators.py:36: FutureWarning: Pass the following variable as a keyword arg: x. From version 0.12, the only valid positional argument will be `data`, and passing other arguments without an explicit keyword will result in an error or misinterpretation.\n",
      "  warnings.warn(\n"
     ]
    },
    {
     "data": {
      "text/plain": [
       "<AxesSubplot:xlabel='cons.conf.idx', ylabel='count'>"
      ]
     },
     "execution_count": 224,
     "metadata": {},
     "output_type": "execute_result"
    },
    {
     "data": {
      "image/png": "[encoded data removed]",
      "text/plain": [
       "<Figure size 1080x360 with 1 Axes>"
      ]
     },
     "metadata": {
      "needs_background": "light"
     },
     "output_type": "display_data"
    }
   ],
   "source": [
    "plt.figure(figsize = (15,5))\n",
    "plt.xticks(rotation = 90)\n",
    "sns.countplot(df['cons.conf.idx'],hue = df.y)"
   ]
  },
  {
   "cell_type": "code",
   "execution_count": 225,
   "metadata": {},
   "outputs": [
    {
     "data": {
      "text/plain": [
       "<seaborn.axisgrid.FacetGrid at 0x2c41f3dad30>"
      ]
     },
     "execution_count": 225,
     "metadata": {},
     "output_type": "execute_result"
    },
    {
     "data": {
      "image/png": "[encoded data removed]",
      "text/plain": [
       "<Figure size 360x360 with 1 Axes>"
      ]
     },
     "metadata": {
      "needs_background": "light"
     },
     "output_type": "display_data"
    }
   ],
   "source": [
    "#euribor3m\n",
    "sns.displot(df.euribor3m)"
   ]
  },
  {
   "cell_type": "code",
   "execution_count": 226,
   "metadata": {},
   "outputs": [
    {
     "data": {
      "text/plain": [
       "5228.1    16234\n",
       "5099.1     8534\n",
       "5191.0     7763\n",
       "5195.8     3683\n",
       "5076.2     1663\n",
       "5017.5     1071\n",
       "4991.6      773\n",
       "5008.7      650\n",
       "4963.6      635\n",
       "5023.5      172\n",
       "5176.3       10\n",
       "Name: nr.employed, dtype: int64"
      ]
     },
     "execution_count": 226,
     "metadata": {},
     "output_type": "execute_result"
    }
   ],
   "source": [
    "df['nr.employed'].value_counts()"
   ]
  },
  {
   "cell_type": "code",
   "execution_count": 227,
   "metadata": {},
   "outputs": [
    {
     "name": "stderr",
     "output_type": "stream",
     "text": [
      "C:\\Users\\abyge\\anaconda3\\lib\\site-packages\\seaborn\\_decorators.py:36: FutureWarning: Pass the following variable as a keyword arg: x. From version 0.12, the only valid positional argument will be `data`, and passing other arguments without an explicit keyword will result in an error or misinterpretation.\n",
      "  warnings.warn(\n"
     ]
    },
    {
     "data": {
      "text/plain": [
       "<AxesSubplot:xlabel='nr.employed', ylabel='count'>"
      ]
     },
     "execution_count": 227,
     "metadata": {},
     "output_type": "execute_result"
    },
    {
     "data": {
      "image/png": "[encoded data removed]",
      "text/plain": [
       "<Figure size 1080x360 with 1 Axes>"
      ]
     },
     "metadata": {
      "needs_background": "light"
     },
     "output_type": "display_data"
    }
   ],
   "source": [
    "plt.figure(figsize = (15,5))\n",
    "plt.xticks(rotation = 90)\n",
    "sns.countplot(df['nr.employed'], hue = df.y)"
   ]
  },
  {
   "cell_type": "code",
   "execution_count": null,
   "metadata": {},
   "outputs": [],
   "source": [
    "#PREPARING VERSION 1 OF THE DATASET"
   ]
  },
  {
   "cell_type": "code",
   "execution_count": 228,
   "metadata": {},
   "outputs": [
    {
     "name": "stdout",
     "output_type": "stream",
     "text": [
      "Percentage of 999 values in pdays 96.0\n"
     ]
    }
   ],
   "source": [
    "df_ver1 = df.copy()\n",
    "del df_ver1['duration']\n",
    "\n",
    "print('Percentage of 999 values in pdays {}'.format(round(len(df[df['pdays']==999])/len(df)*100,0)))\n",
    "del df_ver1['pdays']"
   ]
  },
  {
   "cell_type": "code",
   "execution_count": 229,
   "metadata": {},
   "outputs": [],
   "source": [
    "\n",
    "#cat_vars_label = ['job','education','loan','month','day_of_week','y']\n",
    "#cat_vars_onehot = ['marital','default','housing','contact','poutcome']\n",
    "\n",
    "le_raw = LabelEncoder()\n",
    "for var in ['job','education','month','day_of_week','y']:\n",
    "    df_ver1[var] = le_raw.fit_transform(df_ver1[var])"
   ]
  },
  {
   "cell_type": "code",
   "execution_count": 230,
   "metadata": {},
   "outputs": [],
   "source": [
    "#one hot encoding\n",
    "\n",
    "df_ver1 = pd.get_dummies(data = df_ver1, prefix = 'mar',columns = ['marital'],drop_first = True)\n",
    "df_ver1 = pd.get_dummies(data = df_ver1, prefix = 'def',columns = ['default'],drop_first = True)\n",
    "df_ver1 = pd.get_dummies(data = df_ver1, prefix = 'hou',columns = ['housing'],drop_first = True)\n",
    "df_ver1 = pd.get_dummies(data = df_ver1, prefix = 'lon',columns = ['loan'],drop_first = True)\n",
    "df_ver1 = pd.get_dummies(data = df_ver1, prefix = 'con',columns = ['contact'],drop_first = True)\n",
    "df_ver1 = pd.get_dummies(data = df_ver1, prefix = 'pct',columns = ['poutcome'],drop_first = True)"
   ]
  },
  {
   "cell_type": "code",
   "execution_count": 231,
   "metadata": {},
   "outputs": [],
   "source": [
    "df_ver1 = df_ver1[['age', 'job', 'education', 'month', 'day_of_week', 'campaign',\n",
    "       'previous', 'emp.var.rate', 'cons.price.idx', 'cons.conf.idx',\n",
    "       'euribor3m', 'nr.employed', 'mar_married', 'mar_single',\n",
    "       'mar_unknown', 'def_unknown', 'def_yes', 'hou_unknown', 'hou_yes',\n",
    "       'lon_unknown', 'lon_yes', 'con_telephone', 'pct_nonexistent',\n",
    "       'pct_success','y']]"
   ]
  },
  {
   "cell_type": "code",
   "execution_count": 232,
   "metadata": {},
   "outputs": [
    {
     "name": "stdout",
     "output_type": "stream",
     "text": [
      "[[10930    34]\n",
      " [ 1331    62]]\n",
      "0.8895362952172857\n"
     ]
    },
    {
     "name": "stderr",
     "output_type": "stream",
     "text": [
      "C:\\Users\\abyge\\anaconda3\\lib\\site-packages\\sklearn\\linear_model\\_logistic.py:762: ConvergenceWarning: lbfgs failed to converge (status=1):\n",
      "STOP: TOTAL NO. of ITERATIONS REACHED LIMIT.\n",
      "\n",
      "Increase the number of iterations (max_iter) or scale the data as shown in:\n",
      "    https://scikit-learn.org/stable/modules/preprocessing.html\n",
      "Please also refer to the documentation for alternative solver options:\n",
      "    https://scikit-learn.org/stable/modules/linear_model.html#logistic-regression\n",
      "  n_iter_i = _check_optimize_result(\n"
     ]
    }
   ],
   "source": [
    "#getting confusion matrix and accuracy of raw dataset\n",
    "x_raw = df_ver1.iloc[:,:-1]\n",
    "y_raw = df_ver1.iloc[:,-1]\n",
    "x_train_raw,x_test_raw,y_train_raw,y_test_raw = train_test_split(x_raw,y_raw,test_size = 0.3)\n",
    "lr_raw = LogisticRegression()\n",
    "lr_raw.fit(x_train_raw,y_train_raw)\n",
    "\n",
    "y_pred_raw = lr_raw.predict(x_test_raw)\n",
    "cm_raw = confusion_matrix(y_test_raw,y_pred_raw)\n",
    "accu_raw = accuracy_score(y_test_raw,y_pred_raw)\n",
    "print(cm_raw)\n",
    "print(accu_raw)"
   ]
  },
  {
   "cell_type": "code",
   "execution_count": 233,
   "metadata": {},
   "outputs": [
    {
     "name": "stdout",
     "output_type": "stream",
     "text": [
      "0.5207035987777529\n"
     ]
    }
   ],
   "source": [
    "#area under the curve\n",
    "\n",
    "auc_raw = metrics.roc_auc_score(y_test_raw,y_pred_raw)\n",
    "print(auc_raw)"
   ]
  },
  {
   "cell_type": "code",
   "execution_count": 236,
   "metadata": {},
   "outputs": [
    {
     "name": "stdout",
     "output_type": "stream",
     "text": [
      "0.08327736736064473\n"
     ]
    }
   ],
   "source": [
    "#F1 score\n",
    "\n",
    "f1_raw = f1_score(y_test_raw,y_pred_raw)\n",
    "print(f1_raw)"
   ]
  },
  {
   "cell_type": "code",
   "execution_count": 235,
   "metadata": {},
   "outputs": [
    {
     "data": {
      "text/html": [
       "<div>\n",
       "<style scoped>\n",
       "    .dataframe tbody tr th:only-of-type {\n",
       "        vertical-align: middle;\n",
       "    }\n",
       "\n",
       "    .dataframe tbody tr th {\n",
       "        vertical-align: top;\n",
       "    }\n",
       "\n",
       "    .dataframe thead th {\n",
       "        text-align: right;\n",
       "    }\n",
       "</style>\n",
       "<table border=\"1\" class=\"dataframe\">\n",
       "  <thead>\n",
       "    <tr style=\"text-align: right;\">\n",
       "      <th></th>\n",
       "      <th>age</th>\n",
       "      <th>job</th>\n",
       "      <th>education</th>\n",
       "      <th>month</th>\n",
       "      <th>day_of_week</th>\n",
       "      <th>campaign</th>\n",
       "      <th>previous</th>\n",
       "      <th>emp.var.rate</th>\n",
       "      <th>cons.price.idx</th>\n",
       "      <th>cons.conf.idx</th>\n",
       "      <th>euribor3m</th>\n",
       "      <th>nr.employed</th>\n",
       "      <th>mar_married</th>\n",
       "      <th>mar_single</th>\n",
       "      <th>mar_unknown</th>\n",
       "      <th>def_unknown</th>\n",
       "      <th>def_yes</th>\n",
       "      <th>hou_unknown</th>\n",
       "      <th>hou_yes</th>\n",
       "      <th>lon_unknown</th>\n",
       "      <th>lon_yes</th>\n",
       "      <th>con_telephone</th>\n",
       "      <th>pct_nonexistent</th>\n",
       "      <th>pct_success</th>\n",
       "      <th>y</th>\n",
       "    </tr>\n",
       "  </thead>\n",
       "  <tbody>\n",
       "    <tr>\n",
       "      <th>0</th>\n",
       "      <td>56</td>\n",
       "      <td>3</td>\n",
       "      <td>0</td>\n",
       "      <td>6</td>\n",
       "      <td>1</td>\n",
       "      <td>1</td>\n",
       "      <td>0</td>\n",
       "      <td>1.1</td>\n",
       "      <td>93.994</td>\n",
       "      <td>-36.4</td>\n",
       "      <td>4.857</td>\n",
       "      <td>5191.0</td>\n",
       "      <td>1</td>\n",
       "      <td>0</td>\n",
       "      <td>0</td>\n",
       "      <td>0</td>\n",
       "      <td>0</td>\n",
       "      <td>0</td>\n",
       "      <td>0</td>\n",
       "      <td>0</td>\n",
       "      <td>0</td>\n",
       "      <td>1</td>\n",
       "      <td>1</td>\n",
       "      <td>0</td>\n",
       "      <td>0</td>\n",
       "    </tr>\n",
       "    <tr>\n",
       "      <th>1</th>\n",
       "      <td>57</td>\n",
       "      <td>7</td>\n",
       "      <td>3</td>\n",
       "      <td>6</td>\n",
       "      <td>1</td>\n",
       "      <td>1</td>\n",
       "      <td>0</td>\n",
       "      <td>1.1</td>\n",
       "      <td>93.994</td>\n",
       "      <td>-36.4</td>\n",
       "      <td>4.857</td>\n",
       "      <td>5191.0</td>\n",
       "      <td>1</td>\n",
       "      <td>0</td>\n",
       "      <td>0</td>\n",
       "      <td>1</td>\n",
       "      <td>0</td>\n",
       "      <td>0</td>\n",
       "      <td>0</td>\n",
       "      <td>0</td>\n",
       "      <td>0</td>\n",
       "      <td>1</td>\n",
       "      <td>1</td>\n",
       "      <td>0</td>\n",
       "      <td>0</td>\n",
       "    </tr>\n",
       "    <tr>\n",
       "      <th>2</th>\n",
       "      <td>37</td>\n",
       "      <td>7</td>\n",
       "      <td>3</td>\n",
       "      <td>6</td>\n",
       "      <td>1</td>\n",
       "      <td>1</td>\n",
       "      <td>0</td>\n",
       "      <td>1.1</td>\n",
       "      <td>93.994</td>\n",
       "      <td>-36.4</td>\n",
       "      <td>4.857</td>\n",
       "      <td>5191.0</td>\n",
       "      <td>1</td>\n",
       "      <td>0</td>\n",
       "      <td>0</td>\n",
       "      <td>0</td>\n",
       "      <td>0</td>\n",
       "      <td>0</td>\n",
       "      <td>1</td>\n",
       "      <td>0</td>\n",
       "      <td>0</td>\n",
       "      <td>1</td>\n",
       "      <td>1</td>\n",
       "      <td>0</td>\n",
       "      <td>0</td>\n",
       "    </tr>\n",
       "    <tr>\n",
       "      <th>3</th>\n",
       "      <td>40</td>\n",
       "      <td>0</td>\n",
       "      <td>1</td>\n",
       "      <td>6</td>\n",
       "      <td>1</td>\n",
       "      <td>1</td>\n",
       "      <td>0</td>\n",
       "      <td>1.1</td>\n",
       "      <td>93.994</td>\n",
       "      <td>-36.4</td>\n",
       "      <td>4.857</td>\n",
       "      <td>5191.0</td>\n",
       "      <td>1</td>\n",
       "      <td>0</td>\n",
       "      <td>0</td>\n",
       "      <td>0</td>\n",
       "      <td>0</td>\n",
       "      <td>0</td>\n",
       "      <td>0</td>\n",
       "      <td>0</td>\n",
       "      <td>0</td>\n",
       "      <td>1</td>\n",
       "      <td>1</td>\n",
       "      <td>0</td>\n",
       "      <td>0</td>\n",
       "    </tr>\n",
       "    <tr>\n",
       "      <th>4</th>\n",
       "      <td>56</td>\n",
       "      <td>7</td>\n",
       "      <td>3</td>\n",
       "      <td>6</td>\n",
       "      <td>1</td>\n",
       "      <td>1</td>\n",
       "      <td>0</td>\n",
       "      <td>1.1</td>\n",
       "      <td>93.994</td>\n",
       "      <td>-36.4</td>\n",
       "      <td>4.857</td>\n",
       "      <td>5191.0</td>\n",
       "      <td>1</td>\n",
       "      <td>0</td>\n",
       "      <td>0</td>\n",
       "      <td>0</td>\n",
       "      <td>0</td>\n",
       "      <td>0</td>\n",
       "      <td>0</td>\n",
       "      <td>0</td>\n",
       "      <td>1</td>\n",
       "      <td>1</td>\n",
       "      <td>1</td>\n",
       "      <td>0</td>\n",
       "      <td>0</td>\n",
       "    </tr>\n",
       "    <tr>\n",
       "      <th>...</th>\n",
       "      <td>...</td>\n",
       "      <td>...</td>\n",
       "      <td>...</td>\n",
       "      <td>...</td>\n",
       "      <td>...</td>\n",
       "      <td>...</td>\n",
       "      <td>...</td>\n",
       "      <td>...</td>\n",
       "      <td>...</td>\n",
       "      <td>...</td>\n",
       "      <td>...</td>\n",
       "      <td>...</td>\n",
       "      <td>...</td>\n",
       "      <td>...</td>\n",
       "      <td>...</td>\n",
       "      <td>...</td>\n",
       "      <td>...</td>\n",
       "      <td>...</td>\n",
       "      <td>...</td>\n",
       "      <td>...</td>\n",
       "      <td>...</td>\n",
       "      <td>...</td>\n",
       "      <td>...</td>\n",
       "      <td>...</td>\n",
       "      <td>...</td>\n",
       "    </tr>\n",
       "    <tr>\n",
       "      <th>41183</th>\n",
       "      <td>73</td>\n",
       "      <td>5</td>\n",
       "      <td>5</td>\n",
       "      <td>7</td>\n",
       "      <td>0</td>\n",
       "      <td>1</td>\n",
       "      <td>0</td>\n",
       "      <td>-1.1</td>\n",
       "      <td>94.767</td>\n",
       "      <td>-50.8</td>\n",
       "      <td>1.028</td>\n",
       "      <td>4963.6</td>\n",
       "      <td>1</td>\n",
       "      <td>0</td>\n",
       "      <td>0</td>\n",
       "      <td>0</td>\n",
       "      <td>0</td>\n",
       "      <td>0</td>\n",
       "      <td>1</td>\n",
       "      <td>0</td>\n",
       "      <td>0</td>\n",
       "      <td>0</td>\n",
       "      <td>1</td>\n",
       "      <td>0</td>\n",
       "      <td>1</td>\n",
       "    </tr>\n",
       "    <tr>\n",
       "      <th>41184</th>\n",
       "      <td>46</td>\n",
       "      <td>1</td>\n",
       "      <td>5</td>\n",
       "      <td>7</td>\n",
       "      <td>0</td>\n",
       "      <td>1</td>\n",
       "      <td>0</td>\n",
       "      <td>-1.1</td>\n",
       "      <td>94.767</td>\n",
       "      <td>-50.8</td>\n",
       "      <td>1.028</td>\n",
       "      <td>4963.6</td>\n",
       "      <td>1</td>\n",
       "      <td>0</td>\n",
       "      <td>0</td>\n",
       "      <td>0</td>\n",
       "      <td>0</td>\n",
       "      <td>0</td>\n",
       "      <td>0</td>\n",
       "      <td>0</td>\n",
       "      <td>0</td>\n",
       "      <td>0</td>\n",
       "      <td>1</td>\n",
       "      <td>0</td>\n",
       "      <td>0</td>\n",
       "    </tr>\n",
       "    <tr>\n",
       "      <th>41185</th>\n",
       "      <td>56</td>\n",
       "      <td>5</td>\n",
       "      <td>6</td>\n",
       "      <td>7</td>\n",
       "      <td>0</td>\n",
       "      <td>2</td>\n",
       "      <td>0</td>\n",
       "      <td>-1.1</td>\n",
       "      <td>94.767</td>\n",
       "      <td>-50.8</td>\n",
       "      <td>1.028</td>\n",
       "      <td>4963.6</td>\n",
       "      <td>1</td>\n",
       "      <td>0</td>\n",
       "      <td>0</td>\n",
       "      <td>0</td>\n",
       "      <td>0</td>\n",
       "      <td>0</td>\n",
       "      <td>1</td>\n",
       "      <td>0</td>\n",
       "      <td>0</td>\n",
       "      <td>0</td>\n",
       "      <td>1</td>\n",
       "      <td>0</td>\n",
       "      <td>0</td>\n",
       "    </tr>\n",
       "    <tr>\n",
       "      <th>41186</th>\n",
       "      <td>44</td>\n",
       "      <td>9</td>\n",
       "      <td>5</td>\n",
       "      <td>7</td>\n",
       "      <td>0</td>\n",
       "      <td>1</td>\n",
       "      <td>0</td>\n",
       "      <td>-1.1</td>\n",
       "      <td>94.767</td>\n",
       "      <td>-50.8</td>\n",
       "      <td>1.028</td>\n",
       "      <td>4963.6</td>\n",
       "      <td>1</td>\n",
       "      <td>0</td>\n",
       "      <td>0</td>\n",
       "      <td>0</td>\n",
       "      <td>0</td>\n",
       "      <td>0</td>\n",
       "      <td>0</td>\n",
       "      <td>0</td>\n",
       "      <td>0</td>\n",
       "      <td>0</td>\n",
       "      <td>1</td>\n",
       "      <td>0</td>\n",
       "      <td>1</td>\n",
       "    </tr>\n",
       "    <tr>\n",
       "      <th>41187</th>\n",
       "      <td>74</td>\n",
       "      <td>5</td>\n",
       "      <td>5</td>\n",
       "      <td>7</td>\n",
       "      <td>0</td>\n",
       "      <td>3</td>\n",
       "      <td>1</td>\n",
       "      <td>-1.1</td>\n",
       "      <td>94.767</td>\n",
       "      <td>-50.8</td>\n",
       "      <td>1.028</td>\n",
       "      <td>4963.6</td>\n",
       "      <td>1</td>\n",
       "      <td>0</td>\n",
       "      <td>0</td>\n",
       "      <td>0</td>\n",
       "      <td>0</td>\n",
       "      <td>0</td>\n",
       "      <td>1</td>\n",
       "      <td>0</td>\n",
       "      <td>0</td>\n",
       "      <td>0</td>\n",
       "      <td>0</td>\n",
       "      <td>0</td>\n",
       "      <td>0</td>\n",
       "    </tr>\n",
       "  </tbody>\n",
       "</table>\n",
       "<p>41188 rows × 25 columns</p>\n",
       "</div>"
      ],
      "text/plain": [
       "       age  job  education  month  day_of_week  campaign  previous  \\\n",
       "0       56    3          0      6            1         1         0   \n",
       "1       57    7          3      6            1         1         0   \n",
       "2       37    7          3      6            1         1         0   \n",
       "3       40    0          1      6            1         1         0   \n",
       "4       56    7          3      6            1         1         0   \n",
       "...    ...  ...        ...    ...          ...       ...       ...   \n",
       "41183   73    5          5      7            0         1         0   \n",
       "41184   46    1          5      7            0         1         0   \n",
       "41185   56    5          6      7            0         2         0   \n",
       "41186   44    9          5      7            0         1         0   \n",
       "41187   74    5          5      7            0         3         1   \n",
       "\n",
       "       emp.var.rate  cons.price.idx  cons.conf.idx  euribor3m  nr.employed  \\\n",
       "0               1.1          93.994          -36.4      4.857       5191.0   \n",
       "1               1.1          93.994          -36.4      4.857       5191.0   \n",
       "2               1.1          93.994          -36.4      4.857       5191.0   \n",
       "3               1.1          93.994          -36.4      4.857       5191.0   \n",
       "4               1.1          93.994          -36.4      4.857       5191.0   \n",
       "...             ...             ...            ...        ...          ...   \n",
       "41183          -1.1          94.767          -50.8      1.028       4963.6   \n",
       "41184          -1.1          94.767          -50.8      1.028       4963.6   \n",
       "41185          -1.1          94.767          -50.8      1.028       4963.6   \n",
       "41186          -1.1          94.767          -50.8      1.028       4963.6   \n",
       "41187          -1.1          94.767          -50.8      1.028       4963.6   \n",
       "\n",
       "       mar_married  mar_single  mar_unknown  def_unknown  def_yes  \\\n",
       "0                1           0            0            0        0   \n",
       "1                1           0            0            1        0   \n",
       "2                1           0            0            0        0   \n",
       "3                1           0            0            0        0   \n",
       "4                1           0            0            0        0   \n",
       "...            ...         ...          ...          ...      ...   \n",
       "41183            1           0            0            0        0   \n",
       "41184            1           0            0            0        0   \n",
       "41185            1           0            0            0        0   \n",
       "41186            1           0            0            0        0   \n",
       "41187            1           0            0            0        0   \n",
       "\n",
       "       hou_unknown  hou_yes  lon_unknown  lon_yes  con_telephone  \\\n",
       "0                0        0            0        0              1   \n",
       "1                0        0            0        0              1   \n",
       "2                0        1            0        0              1   \n",
       "3                0        0            0        0              1   \n",
       "4                0        0            0        1              1   \n",
       "...            ...      ...          ...      ...            ...   \n",
       "41183            0        1            0        0              0   \n",
       "41184            0        0            0        0              0   \n",
       "41185            0        1            0        0              0   \n",
       "41186            0        0            0        0              0   \n",
       "41187            0        1            0        0              0   \n",
       "\n",
       "       pct_nonexistent  pct_success  y  \n",
       "0                    1            0  0  \n",
       "1                    1            0  0  \n",
       "2                    1            0  0  \n",
       "3                    1            0  0  \n",
       "4                    1            0  0  \n",
       "...                ...          ... ..  \n",
       "41183                1            0  1  \n",
       "41184                1            0  0  \n",
       "41185                1            0  0  \n",
       "41186                1            0  1  \n",
       "41187                0            0  0  \n",
       "\n",
       "[41188 rows x 25 columns]"
      ]
     },
     "execution_count": 235,
     "metadata": {},
     "output_type": "execute_result"
    }
   ],
   "source": [
    "df_ver1"
   ]
  },
  {
   "cell_type": "code",
   "execution_count": 237,
   "metadata": {},
   "outputs": [],
   "source": [
    "# CREATING VERSION 2 - DATASET AFTER REMOVING NAs, OUTLIERS AND UNKNOWNS"
   ]
  },
  {
   "cell_type": "code",
   "execution_count": 241,
   "metadata": {},
   "outputs": [
    {
     "data": {
      "text/plain": [
       "age               0\n",
       "job               0\n",
       "marital           0\n",
       "education         0\n",
       "default           0\n",
       "housing           0\n",
       "loan              0\n",
       "contact           0\n",
       "month             0\n",
       "day_of_week       0\n",
       "campaign          0\n",
       "previous          0\n",
       "poutcome          0\n",
       "emp.var.rate      0\n",
       "cons.price.idx    0\n",
       "cons.conf.idx     0\n",
       "euribor3m         0\n",
       "nr.employed       0\n",
       "y                 0\n",
       "dtype: int64"
      ]
     },
     "execution_count": 241,
     "metadata": {},
     "output_type": "execute_result"
    }
   ],
   "source": [
    "df_ver2 = df.copy()\n",
    "del df_ver2['duration']\n",
    "del df_ver2['pdays']\n",
    "#Missing values\n",
    "\n",
    "df_ver2.isna().sum()"
   ]
  },
  {
   "cell_type": "code",
   "execution_count": 242,
   "metadata": {},
   "outputs": [],
   "source": [
    "# Outliers"
   ]
  },
  {
   "cell_type": "code",
   "execution_count": 243,
   "metadata": {},
   "outputs": [
    {
     "name": "stderr",
     "output_type": "stream",
     "text": [
      "C:\\Users\\abyge\\anaconda3\\lib\\site-packages\\seaborn\\_decorators.py:36: FutureWarning: Pass the following variable as a keyword arg: x. From version 0.12, the only valid positional argument will be `data`, and passing other arguments without an explicit keyword will result in an error or misinterpretation.\n",
      "  warnings.warn(\n",
      "C:\\Users\\abyge\\anaconda3\\lib\\site-packages\\seaborn\\_decorators.py:36: FutureWarning: Pass the following variable as a keyword arg: x. From version 0.12, the only valid positional argument will be `data`, and passing other arguments without an explicit keyword will result in an error or misinterpretation.\n",
      "  warnings.warn(\n"
     ]
    },
    {
     "data": {
      "text/plain": [
       "<AxesSubplot:xlabel='campaign'>"
      ]
     },
     "execution_count": 243,
     "metadata": {},
     "output_type": "execute_result"
    },
    {
     "data": {
      "image/png": "[encoded data removed]",
      "text/plain": [
       "<Figure size 1440x360 with 2 Axes>"
      ]
     },
     "metadata": {
      "needs_background": "light"
     },
     "output_type": "display_data"
    }
   ],
   "source": [
    "plt.figure(figsize = (20,5))\n",
    "plt.subplot(1,2,1)\n",
    "sns.boxplot('age', data = df_ver2)\n",
    "\n",
    "plt.subplot(1,2,2)\n",
    "sns.boxplot('campaign', data = df_ver2)\n",
    "#lets assume there are no outiers in age column from this"
   ]
  },
  {
   "cell_type": "code",
   "execution_count": 244,
   "metadata": {},
   "outputs": [
    {
     "name": "stdout",
     "output_type": "stream",
     "text": [
      "Outliers in Age - 1.0 percentage\n",
      "Outliers in Campaign - 2.0 percentage\n"
     ]
    }
   ],
   "source": [
    "print('Outliers in Age - {} percentage'.format(round(len(df_ver2[df_ver2.age>70])/len(df_ver2),2)*100))\n",
    "print('Outliers in Campaign - {} percentage'.format(round(len(df_ver2[df_ver2.campaign>10])/len(df_ver2),2)*100))"
   ]
  },
  {
   "cell_type": "code",
   "execution_count": 245,
   "metadata": {},
   "outputs": [
    {
     "name": "stdout",
     "output_type": "stream",
     "text": [
      "Previous rows  41188\n",
      "New rows  39627\n",
      "number of rows elimitated after removing is 1561\n"
     ]
    }
   ],
   "source": [
    "print('Previous rows ',len(df))\n",
    "df_ver2 = df_ver2[(df_ver2['age']<70)&(df_ver2['campaign']<10)]\n",
    "print('New rows ',len(df_ver2))\n",
    "print('number of rows elimitated after removing is {}'.format(len(df)-len(df_ver2)))"
   ]
  },
  {
   "cell_type": "code",
   "execution_count": 246,
   "metadata": {},
   "outputs": [
    {
     "name": "stdout",
     "output_type": "stream",
     "text": [
      "Rows having common Unknown values 0\n"
     ]
    }
   ],
   "source": [
    "#treating the unknown values\n",
    "\n",
    "#Total number of UNKNOWN elements in each feature\n",
    "#job 311 unknown\n",
    "#marital 74 unknown\n",
    "#education 1626 unknown\n",
    "#default 8236 unknown\n",
    "#housing 948 unknown\n",
    "#loan 948\n",
    "\n",
    "\n",
    "#checking how many elements have these all things in common\n",
    "\n",
    "print('Rows having common Unknown values {}'.format(len(df_ver2[(df_ver2['job']=='unknown') & \n",
    "               (df_ver2['marital']=='unknown') &\n",
    "                (df_ver2['education']=='unknown') &\n",
    "               (df_ver2['default']=='unknown') &\n",
    "               (df_ver2['loan']=='unknown') & \n",
    "               (df_ver2['housing']=='unknown')])))\n",
    "\n",
    "#there are no rows with common unknown values"
   ]
  },
  {
   "cell_type": "code",
   "execution_count": 247,
   "metadata": {},
   "outputs": [],
   "source": [
    "#REMOVING UNKNOWN\n",
    "unknown1 = list(df_ver2[df_ver2['job']=='unknown'].index)\n",
    "unknown2 = list(df_ver2[df_ver2['education']=='unknown'].index)\n",
    "unknown3 = list(df_ver2[df_ver2['default']=='unknown'].index)\n",
    "unknown4 = list(df_ver2[df_ver2['loan']=='unknown'].index)\n",
    "unknown5 = list(df_ver2[df_ver2['housing']=='unknown'].index)\n",
    "unknown_indexes = list(set(unknown1+unknown2+unknown3+unknown4+unknown5))\n",
    "ver1_indexes = list(df_ver2.index)\n",
    "unknown_index = [x for x in ver1_indexes if x not in unknown_indexes]\n",
    "df_ver2 = df_ver2.loc[unknown_index]"
   ]
  },
  {
   "cell_type": "code",
   "execution_count": 248,
   "metadata": {},
   "outputs": [
    {
     "data": {
      "text/plain": [
       "29412"
      ]
     },
     "execution_count": 248,
     "metadata": {},
     "output_type": "execute_result"
    }
   ],
   "source": [
    "len(df_ver2)"
   ]
  },
  {
   "cell_type": "code",
   "execution_count": 249,
   "metadata": {},
   "outputs": [],
   "source": [
    "#LABEL ENCODING OF CATEGORICAL FEATURES AND ONE HOT ENCODING OF ORDINAL FEATURES\n",
    "le_ver1 = LabelEncoder()\n",
    "\n",
    "for var in ['job', 'education', 'loan', 'month', 'default','contact','housing','day_of_week', 'y']:\n",
    "    df_ver2[var] = le_ver1.fit_transform(df_ver2[var])\n",
    "\n",
    "\n",
    "df_ver2 = pd.get_dummies(data = df_ver2, prefix = 'mar',columns = ['marital'],drop_first = True)\n",
    "df_ver2 = pd.get_dummies(data = df_ver2, prefix = 'pct',columns = ['poutcome'],drop_first = True)"
   ]
  },
  {
   "cell_type": "code",
   "execution_count": 250,
   "metadata": {},
   "outputs": [],
   "source": [
    "df_ver2 = df_ver2[['age', 'job', 'education', 'default', 'housing', 'loan', 'contact',\n",
    "       'month', 'day_of_week', 'campaign', 'previous', 'emp.var.rate',\n",
    "       'cons.price.idx', 'cons.conf.idx', 'euribor3m', 'nr.employed',\n",
    "       'mar_married', 'mar_single', 'mar_unknown', 'pct_nonexistent',\n",
    "       'pct_success','y']]"
   ]
  },
  {
   "cell_type": "code",
   "execution_count": 251,
   "metadata": {},
   "outputs": [],
   "source": [
    "x_ver1 = df_ver2.iloc[:,:-1]\n",
    "y_ver1 = df_ver2.iloc[:,-1]"
   ]
  },
  {
   "cell_type": "code",
   "execution_count": null,
   "metadata": {},
   "outputs": [],
   "source": []
  },
  {
   "cell_type": "code",
   "execution_count": 252,
   "metadata": {},
   "outputs": [],
   "source": [
    "#scaling\n",
    "from sklearn.preprocessing import MinMaxScaler\n",
    "scale_ver1 = MinMaxScaler()\n",
    "x_ver1 = scale_ver1.fit_transform(x_ver1)"
   ]
  },
  {
   "cell_type": "code",
   "execution_count": 253,
   "metadata": {},
   "outputs": [
    {
     "name": "stdout",
     "output_type": "stream",
     "text": [
      "[[7635  127]\n",
      " [ 835  227]]\n",
      "0.8909791477787852\n"
     ]
    }
   ],
   "source": [
    "#model on version one dataset\n",
    "\n",
    "x_train_ver1,x_test_ver1,y_train_ver1,y_test_ver1 = train_test_split(x_ver1,y_ver1,test_size = 0.3)\n",
    "lr_ver1 = LogisticRegression()\n",
    "lr_ver1.fit(x_train_ver1,y_train_ver1)\n",
    "\n",
    "y_pred_ver1 = lr_ver1.predict(x_test_ver1)\n",
    "cm_ver1 = confusion_matrix(y_test_ver1,y_pred_ver1)\n",
    "accu_ver1 = accuracy_score(y_test_ver1,y_pred_ver1)\n",
    "print(cm_ver1)\n",
    "print(accu_ver1)"
   ]
  },
  {
   "cell_type": "code",
   "execution_count": 254,
   "metadata": {},
   "outputs": [
    {
     "name": "stdout",
     "output_type": "stream",
     "text": [
      "0.5986929417593365\n"
     ]
    }
   ],
   "source": [
    "#area under the curve\n",
    "\n",
    "auc_ver1 = metrics.roc_auc_score(y_test_ver1,y_pred_ver1)\n",
    "print(auc_ver1)"
   ]
  },
  {
   "cell_type": "code",
   "execution_count": 255,
   "metadata": {},
   "outputs": [
    {
     "name": "stdout",
     "output_type": "stream",
     "text": [
      "0.3206214689265537\n"
     ]
    }
   ],
   "source": [
    "#F1 score\n",
    "\n",
    "f1_ver1 = f1_score(y_test_ver1,y_pred_ver1)\n",
    "print(f1_ver1)"
   ]
  },
  {
   "cell_type": "code",
   "execution_count": 256,
   "metadata": {},
   "outputs": [],
   "source": [
    "#CREATING VERSION 3 OF DATASET BY BINNING THE AGE COLUMN"
   ]
  },
  {
   "cell_type": "code",
   "execution_count": 257,
   "metadata": {},
   "outputs": [
    {
     "name": "stdout",
     "output_type": "stream",
     "text": [
      "% of admin. accepted campaign is 12.97\n",
      "% of blue-collar accepted campaign is 6.89\n",
      "% of technician accepted campaign is 10.83\n",
      "% of services accepted campaign is 8.14\n",
      "% of management accepted campaign is 11.22\n",
      "% of retired accepted campaign is 25.23\n",
      "% of entrepreneur accepted campaign is 8.52\n",
      "% of self-employed accepted campaign is 10.49\n",
      "% of housemaid accepted campaign is 10.0\n",
      "% of unemployed accepted campaign is 14.2\n",
      "% of student accepted campaign is 31.43\n",
      "% of unknown accepted campaign is 11.21\n"
     ]
    },
    {
     "data": {
      "image/png": "[encoded data removed]",
      "text/plain": [
       "<Figure size 1080x360 with 1 Axes>"
      ]
     },
     "metadata": {
      "needs_background": "light"
     },
     "output_type": "display_data"
    }
   ],
   "source": [
    "plt.figure(figsize = (15,5))\n",
    "sns.countplot(x = 'job', hue = 'y', order = df.job.value_counts().index,data = df )\n",
    "job_titles = list(df.job.value_counts().index)\n",
    "for title in job_titles:\n",
    "    print('% of {} accepted campaign is {}'.format(title,round((((df[df['job']==title]['y']=='yes').sum()/len(df[df['job']==title]))*100),2)))\n"
   ]
  },
  {
   "cell_type": "code",
   "execution_count": 85,
   "metadata": {},
   "outputs": [
    {
     "name": "stdout",
     "output_type": "stream",
     "text": [
      "% of university.degree accepted campaign is 13.72\n",
      "% of high.school accepted campaign is 10.84\n",
      "% of basic.9y accepted campaign is 7.82\n",
      "% of professional.course accepted campaign is 11.35\n",
      "% of basic.4y accepted campaign is 10.25\n",
      "% of basic.6y accepted campaign is 8.2\n",
      "% of unknown accepted campaign is 14.5\n",
      "% of illiterate accepted campaign is 22.22\n"
     ]
    },
    {
     "data": {
      "image/png": "[encoded data removed]",
      "text/plain": [
       "<Figure size 720x360 with 1 Axes>"
      ]
     },
     "metadata": {
      "needs_background": "light"
     },
     "output_type": "display_data"
    }
   ],
   "source": [
    "plt.figure(figsize = (10,5))\n",
    "sns.countplot(x = 'education', hue = 'y', order = df.education.value_counts().index,data = df )\n",
    "\n",
    "edu_titles = list(df.education.value_counts().index)\n",
    "for title in edu_titles:\n",
    "    print('% of {} accepted campaign is {}'.format(title,round((((df[df['education']==title]['y']=='yes').sum()/len(df[df['education']==title]))*100),2)))"
   ]
  },
  {
   "cell_type": "code",
   "execution_count": 258,
   "metadata": {},
   "outputs": [
    {
     "name": "stdout",
     "output_type": "stream",
     "text": [
      "% of married accepted campaign is 10.16\n",
      "% of single accepted campaign is 14.0\n",
      "% of divorced accepted campaign is 10.32\n",
      "% of unknown accepted campaign is 15.0\n"
     ]
    },
    {
     "data": {
      "image/png": "[encoded data removed]",
      "text/plain": [
       "<Figure size 720x360 with 1 Axes>"
      ]
     },
     "metadata": {
      "needs_background": "light"
     },
     "output_type": "display_data"
    }
   ],
   "source": [
    "plt.figure(figsize = (10,5))\n",
    "sns.countplot(x = 'marital', hue = 'y', order = df.marital.value_counts().index,data = df )\n",
    "mari_titles = list(df.marital.value_counts().index)\n",
    "for title in mari_titles:\n",
    "    print('% of {} accepted campaign is {}'.format(title,round((((df[df['marital']==title]['y']=='yes').sum()/len(df[df['marital']==title]))*100),2)))"
   ]
  },
  {
   "cell_type": "code",
   "execution_count": 259,
   "metadata": {},
   "outputs": [
    {
     "name": "stdout",
     "output_type": "stream",
     "text": [
      "% of may accepted campaign is 6.43\n",
      "% of jul accepted campaign is 9.05\n",
      "% of aug accepted campaign is 10.6\n",
      "% of jun accepted campaign is 10.51\n",
      "% of nov accepted campaign is 10.14\n",
      "% of apr accepted campaign is 20.48\n",
      "% of oct accepted campaign is 43.87\n",
      "% of sep accepted campaign is 44.91\n",
      "% of mar accepted campaign is 50.55\n",
      "% of dec accepted campaign is 48.9\n"
     ]
    },
    {
     "data": {
      "image/png": "[encoded data removed]",
      "text/plain": [
       "<Figure size 720x360 with 1 Axes>"
      ]
     },
     "metadata": {
      "needs_background": "light"
     },
     "output_type": "display_data"
    }
   ],
   "source": [
    "plt.figure(figsize = (10,5))\n",
    "sns.countplot(x = 'month', hue = 'y', order = df.month.value_counts().index,data = df )\n",
    "mon_titles = list(df.month.value_counts().index)\n",
    "for title in mon_titles:\n",
    "    print('% of {} accepted campaign is {}'.format(title,round((((df[df['month']==title]['y']=='yes').sum()/len(df[df['month']==title]))*100),2)))"
   ]
  },
  {
   "cell_type": "code",
   "execution_count": 260,
   "metadata": {},
   "outputs": [
    {
     "name": "stdout",
     "output_type": "stream",
     "text": [
      "% of thu accepted campaign is 12.12\n",
      "% of mon accepted campaign is 9.95\n",
      "% of wed accepted campaign is 11.67\n",
      "% of tue accepted campaign is 11.78\n",
      "% of fri accepted campaign is 10.81\n"
     ]
    },
    {
     "data": {
      "image/png": "[encoded data removed]",
      "text/plain": [
       "<Figure size 720x360 with 1 Axes>"
      ]
     },
     "metadata": {
      "needs_background": "light"
     },
     "output_type": "display_data"
    }
   ],
   "source": [
    "plt.figure(figsize = (10,5))\n",
    "sns.countplot(x = 'day_of_week', hue = 'y', order = df.day_of_week.value_counts().index,data = df )\n",
    "day_titles = list(df.day_of_week.value_counts().index)\n",
    "for title in day_titles:\n",
    "    print('% of {} accepted campaign is {}'.format(title,round((((df[df['day_of_week']==title]['y']=='yes').sum()/len(df[df['day_of_week']==title]))*100),2)))"
   ]
  },
  {
   "cell_type": "code",
   "execution_count": 261,
   "metadata": {},
   "outputs": [
    {
     "name": "stdout",
     "output_type": "stream",
     "text": [
      "% of cellular accepted campaign is 14.74\n",
      "% of telephone accepted campaign is 5.23\n"
     ]
    },
    {
     "data": {
      "image/png": "[encoded data removed]",
      "text/plain": [
       "<Figure size 720x360 with 1 Axes>"
      ]
     },
     "metadata": {
      "needs_background": "light"
     },
     "output_type": "display_data"
    }
   ],
   "source": [
    "plt.figure(figsize = (10,5))\n",
    "sns.countplot(x = 'contact', hue = 'y', order = df.contact.value_counts().index,data = df )\n",
    "con_titles = list(df.contact.value_counts().index)\n",
    "for title in con_titles:\n",
    "    print('% of {} accepted campaign is {}'.format(title,round((((df[df['contact']==title]['y']=='yes').sum()/len(df[df['contact']==title]))*100),2)))"
   ]
  },
  {
   "cell_type": "code",
   "execution_count": 262,
   "metadata": {},
   "outputs": [
    {
     "name": "stdout",
     "output_type": "stream",
     "text": [
      "% of cellular accepted campaign is 14.74\n",
      "% of telephone accepted campaign is 5.23\n"
     ]
    },
    {
     "data": {
      "image/png": "[encoded data removed]",
      "text/plain": [
       "<Figure size 720x360 with 1 Axes>"
      ]
     },
     "metadata": {
      "needs_background": "light"
     },
     "output_type": "display_data"
    }
   ],
   "source": [
    "plt.figure(figsize = (10,5))\n",
    "sns.countplot(x = 'contact', hue = 'y', order = df.contact.value_counts().index,data = df )\n",
    "con_titles = list(df.contact.value_counts().index)\n",
    "for title in con_titles:\n",
    "    print('% of {} accepted campaign is {}'.format(title,round((((df[df['contact']==title]['y']=='yes').sum()/len(df[df['contact']==title]))*100),2)))"
   ]
  },
  {
   "cell_type": "code",
   "execution_count": 263,
   "metadata": {},
   "outputs": [
    {
     "name": "stdout",
     "output_type": "stream",
     "text": [
      "% of yes accepted campaign is 11.62\n",
      "% of no accepted campaign is 10.88\n",
      "% of unknown accepted campaign is 10.81\n"
     ]
    },
    {
     "data": {
      "image/png": "[encoded data removed]",
      "text/plain": [
       "<Figure size 720x360 with 1 Axes>"
      ]
     },
     "metadata": {
      "needs_background": "light"
     },
     "output_type": "display_data"
    }
   ],
   "source": [
    "plt.figure(figsize = (10,5))\n",
    "sns.countplot(x = 'housing', hue = 'y', order = df.housing.value_counts().index,data = df )\n",
    "hou_titles = list(df.housing.value_counts().index)\n",
    "for title in hou_titles:\n",
    "    print('% of {} accepted campaign is {}'.format(title,round((((df[df['housing']==title]['y']=='yes').sum()/len(df[df['housing']==title]))*100),2)))"
   ]
  },
  {
   "cell_type": "code",
   "execution_count": 264,
   "metadata": {},
   "outputs": [
    {
     "name": "stdout",
     "output_type": "stream",
     "text": [
      "% of no accepted campaign is 11.34\n",
      "% of yes accepted campaign is 10.93\n",
      "% of unknown accepted campaign is 10.81\n"
     ]
    },
    {
     "data": {
      "image/png": "[encoded data removed]",
      "text/plain": [
       "<Figure size 720x360 with 1 Axes>"
      ]
     },
     "metadata": {
      "needs_background": "light"
     },
     "output_type": "display_data"
    }
   ],
   "source": [
    "plt.figure(figsize = (10,5))\n",
    "sns.countplot(x = 'loan', hue = 'y', order = df.loan.value_counts().index,data = df )\n",
    "loa_titles = list(df.loan.value_counts().index)\n",
    "for title in loa_titles:\n",
    "    print('% of {} accepted campaign is {}'.format(title,round((((df[df['loan']==title]['y']=='yes').sum()/len(df[df['loan']==title]))*100),2)))"
   ]
  },
  {
   "cell_type": "code",
   "execution_count": 265,
   "metadata": {},
   "outputs": [
    {
     "data": {
      "text/plain": [
       "<AxesSubplot:xlabel='age', ylabel='Density'>"
      ]
     },
     "execution_count": 265,
     "metadata": {},
     "output_type": "execute_result"
    },
    {
     "data": {
      "image/png": "[encoded data removed]",
      "text/plain": [
       "<Figure size 432x288 with 1 Axes>"
      ]
     },
     "metadata": {
      "needs_background": "light"
     },
     "output_type": "display_data"
    }
   ],
   "source": [
    "sns.kdeplot(x = 'age', hue = 'y', data = df)\n",
    "\n",
    "#As the IQR range is almost overlapping age may not be a good feature for prediction"
   ]
  },
  {
   "cell_type": "code",
   "execution_count": 266,
   "metadata": {},
   "outputs": [],
   "source": [
    "df_ver3 = df.copy()\n",
    "del df_ver3['duration']\n",
    "del df_ver3['pdays']"
   ]
  },
  {
   "cell_type": "code",
   "execution_count": 267,
   "metadata": {},
   "outputs": [],
   "source": [
    "#removing outliers and unknowns\n",
    "df_ver3 = df_ver3[(df_ver3['age']<70)&(df_ver3['campaign']<10)]\n",
    "unknown1 = list(df_ver3[df_ver3['job']=='unknown'].index)\n",
    "unknown2 = list(df_ver3[df_ver3['education']=='unknown'].index)\n",
    "unknown3 = list(df_ver3[df_ver3['default']=='unknown'].index)\n",
    "unknown4 = list(df_ver3[df_ver3['loan']=='unknown'].index)\n",
    "unknown5 = list(df_ver3[df_ver3['housing']=='unknown'].index)\n",
    "unknown_indexes = list(set(unknown1+unknown2+unknown3+unknown4+unknown5))\n",
    "ver2_indexes = list(df_ver3.index)\n",
    "unknown_index = [x for x in ver2_indexes if x not in unknown_indexes]\n",
    "df_ver3 = df_ver3.loc[unknown_index]"
   ]
  },
  {
   "cell_type": "code",
   "execution_count": 268,
   "metadata": {},
   "outputs": [
    {
     "data": {
      "text/plain": [
       "<AxesSubplot:xlabel='age', ylabel='Count'>"
      ]
     },
     "execution_count": 268,
     "metadata": {},
     "output_type": "execute_result"
    },
    {
     "data": {
      "image/png": "[encoded data removed]",
      "text/plain": [
       "<Figure size 720x360 with 2 Axes>"
      ]
     },
     "metadata": {
      "needs_background": "light"
     },
     "output_type": "display_data"
    }
   ],
   "source": [
    "plt.figure(figsize = (10,5))\n",
    "plt.subplot(1,2,1)\n",
    "sns.histplot(x = 'age', hue = 'y', data = df_ver3)\n",
    "plt.subplot(1,2,2)\n",
    "sns.histplot(x = 'age', data = df_ver3)\n"
   ]
  },
  {
   "cell_type": "code",
   "execution_count": 269,
   "metadata": {},
   "outputs": [],
   "source": [
    "#from the above chart we are making bins [0,20,30,45,55,55 above]\n",
    "df_ver3['age'] = pd.cut(x = df_ver3['age'], bins = [0,20,30,45,55,98], \n",
    "                        labels = ['teen','youth','adults','seniors','elders'])\n"
   ]
  },
  {
   "cell_type": "code",
   "execution_count": 270,
   "metadata": {},
   "outputs": [
    {
     "data": {
      "text/plain": [
       "<AxesSubplot:xlabel='age', ylabel='count'>"
      ]
     },
     "execution_count": 270,
     "metadata": {},
     "output_type": "execute_result"
    },
    {
     "data": {
      "image/png": "[encoded data removed]",
      "text/plain": [
       "<Figure size 432x288 with 1 Axes>"
      ]
     },
     "metadata": {
      "needs_background": "light"
     },
     "output_type": "display_data"
    }
   ],
   "source": [
    "sns.countplot(x = 'age',hue = 'y', data = df_ver3)"
   ]
  },
  {
   "cell_type": "code",
   "execution_count": 271,
   "metadata": {},
   "outputs": [],
   "source": [
    "le_ver2 = LabelEncoder()\n",
    "\n",
    "for var in ['age','job', 'education', 'loan', 'month', 'default','contact','housing','day_of_week', 'y']:\n",
    "    df_ver3[var] = le_ver2.fit_transform(df_ver3[var])\n",
    "\n",
    "\n",
    "df_ver3 = pd.get_dummies(data = df_ver3, prefix = 'mar',columns = ['marital'],drop_first = True)\n",
    "df_ver3 = pd.get_dummies(data = df_ver3, prefix = 'pct',columns = ['poutcome'],drop_first = True)"
   ]
  },
  {
   "cell_type": "code",
   "execution_count": 272,
   "metadata": {},
   "outputs": [],
   "source": [
    "df_ver3 = df_ver3[['age', 'job', 'education', 'default', 'housing', 'loan', 'contact',\n",
    "       'month', 'day_of_week', 'campaign', 'previous', 'emp.var.rate',\n",
    "       'cons.price.idx', 'cons.conf.idx', 'euribor3m', 'nr.employed',\n",
    "       'mar_married', 'mar_single', 'mar_unknown', 'pct_nonexistent',\n",
    "       'pct_success','y']]"
   ]
  },
  {
   "cell_type": "code",
   "execution_count": 273,
   "metadata": {},
   "outputs": [
    {
     "data": {
      "text/plain": [
       "Index(['age', 'job', 'education', 'default', 'housing', 'loan', 'contact',\n",
       "       'month', 'day_of_week', 'campaign', 'previous', 'emp.var.rate',\n",
       "       'cons.price.idx', 'cons.conf.idx', 'euribor3m', 'nr.employed',\n",
       "       'mar_married', 'mar_single', 'mar_unknown', 'pct_nonexistent',\n",
       "       'pct_success', 'y'],\n",
       "      dtype='object')"
      ]
     },
     "execution_count": 273,
     "metadata": {},
     "output_type": "execute_result"
    }
   ],
   "source": [
    "df_ver3.columns"
   ]
  },
  {
   "cell_type": "code",
   "execution_count": 274,
   "metadata": {},
   "outputs": [],
   "source": [
    "x_ver2 = df_ver3.iloc[:,:-1]\n",
    "y_ver2 = df_ver3.iloc[:,-1]"
   ]
  },
  {
   "cell_type": "code",
   "execution_count": 275,
   "metadata": {},
   "outputs": [],
   "source": [
    "#scaling\n",
    "from sklearn.preprocessing import MinMaxScaler\n",
    "scale_ver2 = MinMaxScaler()\n",
    "x_ver2 = scale_ver2.fit_transform(x_ver2)"
   ]
  },
  {
   "cell_type": "code",
   "execution_count": 276,
   "metadata": {},
   "outputs": [
    {
     "name": "stdout",
     "output_type": "stream",
     "text": [
      "[[7598  112]\n",
      " [ 859  255]]\n",
      "0.889959202175884\n"
     ]
    }
   ],
   "source": [
    "#model on version one dataset\n",
    "\n",
    "x_train_ver2,x_test_ver2,y_train_ver2,y_test_ver2 = train_test_split(x_ver2,y_ver2,test_size = 0.3)\n",
    "lr_ver2 = LogisticRegression()\n",
    "lr_ver2.fit(x_train_ver2,y_train_ver2)\n",
    "\n",
    "y_pred_ver2 = lr_ver2.predict(x_test_ver2)\n",
    "cm_ver2 = confusion_matrix(y_test_ver2,y_pred_ver2)\n",
    "accu_ver2 = accuracy_score(y_test_ver2,y_pred_ver2)\n",
    "print(cm_ver2)\n",
    "print(accu_ver2)"
   ]
  },
  {
   "cell_type": "code",
   "execution_count": 277,
   "metadata": {},
   "outputs": [
    {
     "name": "stdout",
     "output_type": "stream",
     "text": [
      "0.6071891292755568\n"
     ]
    }
   ],
   "source": [
    "#area under the curve\n",
    "\n",
    "auc_ver2 = metrics.roc_auc_score(y_test_ver2,y_pred_ver2)\n",
    "print(auc_ver2)"
   ]
  },
  {
   "cell_type": "code",
   "execution_count": 278,
   "metadata": {},
   "outputs": [
    {
     "name": "stdout",
     "output_type": "stream",
     "text": [
      "0.3443619176232275\n"
     ]
    }
   ],
   "source": [
    "#F1 score\n",
    "\n",
    "f1_ver2 = f1_score(y_test_ver2,y_pred_ver2)\n",
    "print(f1_ver2)"
   ]
  },
  {
   "cell_type": "code",
   "execution_count": 123,
   "metadata": {},
   "outputs": [],
   "source": [
    "#CREATING VERSION 3 BY INTRODUCING INTERACTION FEATURES"
   ]
  },
  {
   "cell_type": "code",
   "execution_count": 289,
   "metadata": {},
   "outputs": [],
   "source": [
    "df_ver4 = df.copy()\n",
    "del df_ver4['duration']\n",
    "del df_ver4['pdays']"
   ]
  },
  {
   "cell_type": "code",
   "execution_count": 290,
   "metadata": {},
   "outputs": [],
   "source": [
    "#removing outliers and unknowns\n",
    "df_ver4 = df_ver4[(df_ver4['age']<70)&(df_ver4['campaign']<10)]\n",
    "unknown1 = list(df_ver4[df_ver4['job']=='unknown'].index)\n",
    "unknown2 = list(df_ver4[df_ver4['education']=='unknown'].index)\n",
    "unknown3 = list(df_ver4[df_ver4['default']=='unknown'].index)\n",
    "unknown4 = list(df_ver4[df_ver4['loan']=='unknown'].index)\n",
    "unknown5 = list(df_ver4[df_ver4['housing']=='unknown'].index)\n",
    "unknown_indexes = list(set(unknown1+unknown2+unknown3+unknown4+unknown5))\n",
    "no_outlier_indexes = list(df_ver4.index)\n",
    "unknown_index = [x for x in no_outlier_indexes if x not in unknown_indexes]\n",
    "df_ver4 = df_ver4.loc[unknown_index]"
   ]
  },
  {
   "cell_type": "code",
   "execution_count": 291,
   "metadata": {},
   "outputs": [
    {
     "name": "stderr",
     "output_type": "stream",
     "text": [
      "<ipython-input-291-2b9e3e0f12c5>:10: SettingWithCopyWarning: \n",
      "A value is trying to be set on a copy of a slice from a DataFrame\n",
      "\n",
      "See the caveats in the documentation: https://pandas.pydata.org/pandas-docs/stable/user_guide/indexing.html#returning-a-view-versus-a-copy\n",
      "  df_ver4['l_h'][var] = 'both_yes'\n",
      "C:\\Users\\abyge\\anaconda3\\lib\\site-packages\\pandas\\core\\indexing.py:670: SettingWithCopyWarning: \n",
      "A value is trying to be set on a copy of a slice from a DataFrame\n",
      "\n",
      "See the caveats in the documentation: https://pandas.pydata.org/pandas-docs/stable/user_guide/indexing.html#returning-a-view-versus-a-copy\n",
      "  iloc._setitem_with_indexer(indexer, value)\n",
      "<ipython-input-291-2b9e3e0f12c5>:12: SettingWithCopyWarning: \n",
      "A value is trying to be set on a copy of a slice from a DataFrame\n",
      "\n",
      "See the caveats in the documentation: https://pandas.pydata.org/pandas-docs/stable/user_guide/indexing.html#returning-a-view-versus-a-copy\n",
      "  df_ver4['l_h'][var] = 'both_no'\n",
      "<ipython-input-291-2b9e3e0f12c5>:14: SettingWithCopyWarning: \n",
      "A value is trying to be set on a copy of a slice from a DataFrame\n",
      "\n",
      "See the caveats in the documentation: https://pandas.pydata.org/pandas-docs/stable/user_guide/indexing.html#returning-a-view-versus-a-copy\n",
      "  df_ver4['l_h'][var] = 'housing'\n",
      "<ipython-input-291-2b9e3e0f12c5>:16: SettingWithCopyWarning: \n",
      "A value is trying to be set on a copy of a slice from a DataFrame\n",
      "\n",
      "See the caveats in the documentation: https://pandas.pydata.org/pandas-docs/stable/user_guide/indexing.html#returning-a-view-versus-a-copy\n",
      "  df_ver4['l_h'][var] = 'loan'\n"
     ]
    }
   ],
   "source": [
    "#introducing a new feature l_h from loan and housing features\n",
    "\n",
    "df_ver4['l_h'] = np.nan\n",
    "ind_both_yes = list(df_ver4[(df_ver4['loan']=='yes') & (df_ver4['housing']== 'yes')].index)\n",
    "ind_loan = list(df_ver4[(df_ver4['loan']=='yes') & (df_ver4['housing']!= 'yes')].index)\n",
    "ind_housing = list(df_ver4[(df_ver4['loan']!='yes') & (df_ver4['housing']== 'yes')].index)\n",
    "ind_both_no = list(df_ver4[(df_ver4['loan']!='yes') & (df_ver4['housing']!= 'yes')].index)\n",
    "\n",
    "for var in ind_both_yes:\n",
    "    df_ver4['l_h'][var] = 'both_yes'\n",
    "for var in ind_both_no:\n",
    "    df_ver4['l_h'][var] = 'both_no'\n",
    "for var in ind_housing:\n",
    "    df_ver4['l_h'][var] = 'housing'\n",
    "for var in ind_loan:\n",
    "    df_ver4['l_h'][var] = 'loan'"
   ]
  },
  {
   "cell_type": "code",
   "execution_count": 292,
   "metadata": {},
   "outputs": [
    {
     "data": {
      "text/plain": [
       "housing     13199\n",
       "both_no     11604\n",
       "both_yes     2753\n",
       "loan         1856\n",
       "Name: l_h, dtype: int64"
      ]
     },
     "execution_count": 292,
     "metadata": {},
     "output_type": "execute_result"
    }
   ],
   "source": [
    "df_ver4.l_h.value_counts()"
   ]
  },
  {
   "cell_type": "code",
   "execution_count": 293,
   "metadata": {},
   "outputs": [],
   "source": [
    "df_ver4['age'] = pd.cut(x = df_ver4['age'], bins = [0,20,30,45,55,98], \n",
    "                        labels = ['teen','youth','adults','seniors','elders'])"
   ]
  },
  {
   "cell_type": "code",
   "execution_count": 294,
   "metadata": {},
   "outputs": [],
   "source": [
    "del df_ver4['loan']\n",
    "del df_ver4['housing']"
   ]
  },
  {
   "cell_type": "code",
   "execution_count": 295,
   "metadata": {},
   "outputs": [],
   "source": [
    "le_ver3 = LabelEncoder()\n",
    "\n",
    "for var in ['age','job', 'education', 'month', 'default','contact','day_of_week','l_h' ,'y']:\n",
    "    df_ver4[var] = le_ver3.fit_transform(df_ver4[var])\n",
    "\n",
    "\n",
    "df_ver4 = pd.get_dummies(data = df_ver4, prefix = 'mar',columns = ['marital'],drop_first = True)\n",
    "df_ver4 = pd.get_dummies(data = df_ver4, prefix = 'pct',columns = ['poutcome'],drop_first = True)"
   ]
  },
  {
   "cell_type": "code",
   "execution_count": 296,
   "metadata": {},
   "outputs": [
    {
     "data": {
      "text/plain": [
       "Index(['age', 'job', 'education', 'default', 'contact', 'month', 'day_of_week',\n",
       "       'campaign', 'previous', 'emp.var.rate', 'cons.price.idx',\n",
       "       'cons.conf.idx', 'euribor3m', 'nr.employed', 'y', 'l_h', 'mar_married',\n",
       "       'mar_single', 'mar_unknown', 'pct_nonexistent', 'pct_success'],\n",
       "      dtype='object')"
      ]
     },
     "execution_count": 296,
     "metadata": {},
     "output_type": "execute_result"
    }
   ],
   "source": [
    "df_ver4.columns"
   ]
  },
  {
   "cell_type": "code",
   "execution_count": 297,
   "metadata": {},
   "outputs": [],
   "source": [
    "df_ver4 = df_ver4[['age', 'job', 'education', 'default', 'contact', 'month', 'day_of_week',\n",
    "       'campaign', 'previous', 'emp.var.rate', 'cons.price.idx',\n",
    "       'cons.conf.idx', 'euribor3m', 'nr.employed', 'l_h', 'mar_married',\n",
    "       'mar_single', 'mar_unknown', 'pct_nonexistent', 'pct_success','y']]\n",
    "x_ver3 = df_ver4.iloc[:,:-1]\n",
    "y_ver3 = df_ver4.iloc[:,-1]"
   ]
  },
  {
   "cell_type": "code",
   "execution_count": 298,
   "metadata": {},
   "outputs": [],
   "source": [
    "#scaling\n",
    "#from sklearn.preprocessing import MinMaxScaler\n",
    "scale_ver3 = MinMaxScaler()\n",
    "x_ver3 = scale_ver3.fit_transform(x_ver3)\n"
   ]
  },
  {
   "cell_type": "code",
   "execution_count": 299,
   "metadata": {},
   "outputs": [
    {
     "name": "stdout",
     "output_type": "stream",
     "text": [
      "[[7591  120]\n",
      " [ 886  227]]\n",
      "0.8859927470534905\n"
     ]
    }
   ],
   "source": [
    "x_train_ver3,x_test_ver3,y_train_ver3,y_test_ver3 = train_test_split(x_ver3,y_ver3,test_size = 0.3)\n",
    "lr_ver3 = LogisticRegression()\n",
    "lr_ver3.fit(x_train_ver3,y_train_ver3)\n",
    "\n",
    "y_pred_ver3 = lr_ver3.predict(x_test_ver3)\n",
    "cm_ver3 = confusion_matrix(y_test_ver3,y_pred_ver3)\n",
    "accu_ver3 = accuracy_score(y_test_ver3,y_pred_ver3)\n",
    "print(cm_ver3)\n",
    "print(accu_ver3)"
   ]
  },
  {
   "cell_type": "code",
   "execution_count": 300,
   "metadata": {},
   "outputs": [
    {
     "name": "stdout",
     "output_type": "stream",
     "text": [
      "0.594195547765919\n"
     ]
    }
   ],
   "source": [
    "#area under the curve\n",
    "\n",
    "auc_ver3 = metrics.roc_auc_score(y_test_ver3,y_pred_ver3)\n",
    "print(auc_ver3)"
   ]
  },
  {
   "cell_type": "code",
   "execution_count": 301,
   "metadata": {},
   "outputs": [
    {
     "name": "stdout",
     "output_type": "stream",
     "text": [
      "0.31095890410958904\n"
     ]
    }
   ],
   "source": [
    "#F1 score\n",
    "\n",
    "f1_ver3 = f1_score(y_test_ver3,y_pred_ver3)\n",
    "print(f1_ver3)"
   ]
  },
  {
   "cell_type": "code",
   "execution_count": 312,
   "metadata": {},
   "outputs": [],
   "source": [
    "#VERSION 5 - BALANCING THE DATASET"
   ]
  },
  {
   "cell_type": "code",
   "execution_count": 303,
   "metadata": {},
   "outputs": [
    {
     "data": {
      "text/plain": [
       "0    25743\n",
       "1     3669\n",
       "Name: y, dtype: int64"
      ]
     },
     "execution_count": 303,
     "metadata": {},
     "output_type": "execute_result"
    }
   ],
   "source": [
    "df_ver5 = df_ver4.copy()\n",
    "df_ver5.y.value_counts()"
   ]
  },
  {
   "cell_type": "code",
   "execution_count": 304,
   "metadata": {},
   "outputs": [],
   "source": [
    "df_maj_ver4 = df_ver5[df_ver5['y']==0]\n",
    "df_min_ver4 = df_ver5[df_ver5['y']== 1]\n",
    "df_min_up_ver4 = resample(df_min_ver4, replace = True, n_samples = 25684)\n",
    "df_ver5 = pd.concat([df_maj_ver4, df_min_up_ver4])"
   ]
  },
  {
   "cell_type": "code",
   "execution_count": 305,
   "metadata": {},
   "outputs": [
    {
     "data": {
      "text/plain": [
       "51427"
      ]
     },
     "execution_count": 305,
     "metadata": {},
     "output_type": "execute_result"
    }
   ],
   "source": [
    "len(df_ver5)"
   ]
  },
  {
   "cell_type": "code",
   "execution_count": 306,
   "metadata": {},
   "outputs": [],
   "source": [
    "x_ver4 = df_ver5.iloc[:,:-1]\n",
    "y_ver4 = df_ver5.iloc[:,-1]"
   ]
  },
  {
   "cell_type": "code",
   "execution_count": 307,
   "metadata": {},
   "outputs": [],
   "source": [
    "scale_ver4 = MinMaxScaler()\n",
    "x_ver4 = scale_ver4.fit_transform(x_ver4)"
   ]
  },
  {
   "cell_type": "code",
   "execution_count": 308,
   "metadata": {},
   "outputs": [
    {
     "name": "stdout",
     "output_type": "stream",
     "text": [
      "[[6285 1488]\n",
      " [2601 5055]]\n",
      "0.7349795839004473\n"
     ]
    },
    {
     "name": "stderr",
     "output_type": "stream",
     "text": [
      "C:\\Users\\abyge\\anaconda3\\lib\\site-packages\\sklearn\\linear_model\\_logistic.py:762: ConvergenceWarning: lbfgs failed to converge (status=1):\n",
      "STOP: TOTAL NO. of ITERATIONS REACHED LIMIT.\n",
      "\n",
      "Increase the number of iterations (max_iter) or scale the data as shown in:\n",
      "    https://scikit-learn.org/stable/modules/preprocessing.html\n",
      "Please also refer to the documentation for alternative solver options:\n",
      "    https://scikit-learn.org/stable/modules/linear_model.html#logistic-regression\n",
      "  n_iter_i = _check_optimize_result(\n"
     ]
    }
   ],
   "source": [
    "x_train_ver4,x_test_ver4,y_train_ver4,y_test_ver4 = train_test_split(x_ver4,y_ver4,test_size = 0.3)\n",
    "lr_ver4 = LogisticRegression()\n",
    "lr_ver4.fit(x_train_ver4,y_train_ver4)\n",
    "\n",
    "y_pred_ver4 = lr_ver4.predict(x_test_ver4)\n",
    "cm_ver4 = confusion_matrix(y_test_ver4,y_pred_ver4)\n",
    "accu_ver4 = accuracy_score(y_test_ver4,y_pred_ver4)\n",
    "print(cm_ver4)\n",
    "print(accu_ver4)"
   ]
  },
  {
   "cell_type": "code",
   "execution_count": 309,
   "metadata": {},
   "outputs": [
    {
     "name": "stdout",
     "output_type": "stream",
     "text": [
      "0.594195547765919\n"
     ]
    }
   ],
   "source": [
    "#area under the curve\n",
    "\n",
    "auc_ver4 = metrics.roc_auc_score(y_test_ver4,y_pred_ver4)\n",
    "print(auc_ver3)"
   ]
  },
  {
   "cell_type": "code",
   "execution_count": 310,
   "metadata": {},
   "outputs": [
    {
     "name": "stdout",
     "output_type": "stream",
     "text": [
      "0.7120219733784069\n"
     ]
    }
   ],
   "source": [
    "#F1 score\n",
    "\n",
    "f1_ver4 = f1_score(y_test_ver4,y_pred_ver4)\n",
    "print(f1_ver4)"
   ]
  },
  {
   "cell_type": "code",
   "execution_count": 311,
   "metadata": {},
   "outputs": [],
   "source": [
    "#Applying various classification algorithms\n",
    "#Naive bayes, KNN, SVM, Decision Tree, Random Forest and XGBoost"
   ]
  },
  {
   "cell_type": "code",
   "execution_count": 313,
   "metadata": {},
   "outputs": [],
   "source": [
    "#NAIVE BAYES"
   ]
  },
  {
   "cell_type": "code",
   "execution_count": 325,
   "metadata": {},
   "outputs": [
    {
     "name": "stdout",
     "output_type": "stream",
     "text": [
      "Confusion Matrix - Naive Bayes\n",
      "[[3043 4730]\n",
      " [1118 6538]]\n",
      "Accuracy - Naive Bayes - 62.0\n",
      "AUC - Naive Bayes - 62.0\n",
      "F1 Score Naive Bayes  69.0\n"
     ]
    }
   ],
   "source": [
    "from sklearn.naive_bayes import GaussianNB\n",
    "ver5_nb = GaussianNB()\n",
    "ver5_nb.fit(x_train_ver4,y_train_ver4)\n",
    "\n",
    "y_pred_ver4_nb = ver5_nb.predict(x_test_ver4)\n",
    "cm_ver4_nb = confusion_matrix(y_test_ver4,y_pred_ver4_nb)\n",
    "accu_ver4_nb = accuracy_score(y_test_ver4,y_pred_ver4_nb)\n",
    "print('Confusion Matrix - Naive Bayes')\n",
    "print(cm_ver4_nb)\n",
    "print('Accuracy - Naive Bayes - {}'.format(round(accu_ver4_nb,2)*100))\n",
    "auc_ver4_nb = metrics.roc_auc_score(y_test_ver4,y_pred_ver4_nb)\n",
    "print('AUC - Naive Bayes - {}'.format(round(auc_ver4_nb,2)*100))\n",
    "f1_ver4_nb = f1_score(y_test_ver4,y_pred_ver4_nb)\n",
    "print('F1 Score Naive Bayes  {}'.format(round(f1_ver4_nb,2)*100))"
   ]
  },
  {
   "cell_type": "code",
   "execution_count": 342,
   "metadata": {},
   "outputs": [
    {
     "name": "stdout",
     "output_type": "stream",
     "text": [
      "Confusion Matrix -KNN\n",
      "[[5720 2053]\n",
      " [ 434 7222]]\n",
      "Accuracy - KNN - 84.0\n",
      "AUC - KNN - 84.0\n",
      "F1 Score KNN  85.0\n"
     ]
    }
   ],
   "source": [
    "from sklearn.neighbors import KNeighborsClassifier\n",
    "ver5_knn = KNeighborsClassifier(n_neighbors = 5, metric = 'minkowski', p=2)\n",
    "ver5_knn.fit(x_train_ver4,y_train_ver4)\n",
    "\n",
    "y_pred_ver4_knn = ver5_knn.predict(x_test_ver4)\n",
    "cm_ver4_knn = confusion_matrix(y_test_ver4,y_pred_ver4_knn)\n",
    "accu_ver4_knn = accuracy_score(y_test_ver4,y_pred_ver4_knn)\n",
    "print('Confusion Matrix -KNN')\n",
    "print(cm_ver4_knn)\n",
    "print('Accuracy - KNN - {}'.format(round(accu_ver4_knn,2)*100))\n",
    "auc_ver4_knn = metrics.roc_auc_score(y_test_ver4,y_pred_ver4_knn)\n",
    "print('AUC - KNN - {}'.format(round(auc_ver4_knn,2)*100))\n",
    "f1_ver4_knn = f1_score(y_test_ver4,y_pred_ver4_knn)\n",
    "print('F1 Score KNN  {}'.format(round(f1_ver4_knn,2)*100))"
   ]
  },
  {
   "cell_type": "code",
   "execution_count": 331,
   "metadata": {},
   "outputs": [
    {
     "name": "stdout",
     "output_type": "stream",
     "text": [
      "Confusion Matrix - Naive Bayes\n",
      "[[6544 1229]\n",
      " [2793 4863]]\n",
      "Accuracy - Naive Bayes - 74.0\n",
      "AUC - Naive Bayes - 74.0\n",
      "F1 Score Naive Bayes  71.0\n"
     ]
    }
   ],
   "source": [
    "from sklearn.svm import SVC\n",
    "ver5_svc = SVC(kernel = 'linear')\n",
    "ver5_svc.fit(x_train_ver4,y_train_ver4)\n",
    "\n",
    "y_pred_ver4_svc = ver5_svc.predict(x_test_ver4)\n",
    "cm_ver4_svc = confusion_matrix(y_test_ver4,y_pred_ver4_svc)\n",
    "accu_ver4_svc = accuracy_score(y_test_ver4,y_pred_ver4_svc)\n",
    "print('Confusion Matrix - Naive Bayes')\n",
    "print(cm_ver4_svc)\n",
    "print('Accuracy - Naive Bayes - {}'.format(round(accu_ver4_svc,2)*100))\n",
    "auc_ver4_svc = metrics.roc_auc_score(y_test_ver4,y_pred_ver4_svc)\n",
    "print('AUC - Naive Bayes - {}'.format(round(auc_ver4_svc,2)*100))\n",
    "f1_ver4_svc = f1_score(y_test_ver4,y_pred_ver4_svc)\n",
    "print('F1 Score Naive Bayes  {}'.format(round(f1_ver4_svc,2)*100))"
   ]
  },
  {
   "cell_type": "code",
   "execution_count": 344,
   "metadata": {},
   "outputs": [
    {
     "data": {
      "text/plain": [
       "0.7393220558688185"
      ]
     },
     "execution_count": 344,
     "metadata": {},
     "output_type": "execute_result"
    }
   ],
   "source": [
    "accuracy_score(y_test_ver4,y_pred_ver4_svc)"
   ]
  },
  {
   "cell_type": "code",
   "execution_count": 345,
   "metadata": {},
   "outputs": [
    {
     "data": {
      "text/plain": [
       "0.7385383382393923"
      ]
     },
     "execution_count": 345,
     "metadata": {},
     "output_type": "execute_result"
    }
   ],
   "source": [
    "metrics.roc_auc_score(y_test_ver4,y_pred_ver4_svc)"
   ]
  },
  {
   "cell_type": "code",
   "execution_count": 343,
   "metadata": {},
   "outputs": [
    {
     "name": "stdout",
     "output_type": "stream",
     "text": [
      "Confusion Matrix - SVM Classifier\n",
      "[[6654 1119]\n",
      " [ 107 7549]]\n",
      "Accuracy - SVM Classifier - 92.0\n",
      "AUC - SVM Classifier - 92.0\n",
      "F1 Score SVM Classifier  92.0\n"
     ]
    }
   ],
   "source": [
    "from sklearn.tree import DecisionTreeClassifier\n",
    "ver5_dtc = DecisionTreeClassifier(criterion = 'entropy')\n",
    "ver5_dtc.fit(x_train_ver4,y_train_ver4)\n",
    "\n",
    "y_pred_ver4_dtc = ver5_dtc.predict(x_test_ver4)\n",
    "cm_ver4_dtc = confusion_matrix(y_test_ver4,y_pred_ver4_dtc)\n",
    "accu_ver4_dtc = accuracy_score(y_test_ver4,y_pred_ver4_dtc)\n",
    "print('Confusion Matrix - SVM Classifier')\n",
    "print(cm_ver4_dtc)\n",
    "print('Accuracy - SVM Classifier - {}'.format(round(accu_ver4_dtc,2)*100))\n",
    "auc_ver4_dtc = metrics.roc_auc_score(y_test_ver4,y_pred_ver4_dtc)\n",
    "print('AUC - SVM Classifier - {}'.format(round(auc_ver4_dtc,2)*100))\n",
    "f1_ver4_dtc = f1_score(y_test_ver4,y_pred_ver4_dtc)\n",
    "print('F1 Score SVM Classifier  {}'.format(round(f1_ver4_dtc,2)*100))"
   ]
  },
  {
   "cell_type": "code",
   "execution_count": 334,
   "metadata": {},
   "outputs": [
    {
     "name": "stdout",
     "output_type": "stream",
     "text": [
      "Confusion Matrix - Random Forest Classifier\n",
      "[[6915  858]\n",
      " [  88 7568]]\n",
      "Accuracy - Random Forest Classifier - 94.0\n",
      "AUC - Random Forest Classifier - 94.0\n",
      "F1 Score Random Forest Classifier  94.0\n"
     ]
    }
   ],
   "source": [
    "from sklearn.ensemble import RandomForestClassifier\n",
    "ver5_rfc = RandomForestClassifier(n_estimators = 10,criterion = 'entropy')\n",
    "ver5_rfc.fit(x_train_ver4,y_train_ver4)\n",
    "\n",
    "y_pred_ver4_rfc = ver5_rfc.predict(x_test_ver4)\n",
    "cm_ver4_rfc = confusion_matrix(y_test_ver4,y_pred_ver4_rfc)\n",
    "accu_ver4_rfc = accuracy_score(y_test_ver4,y_pred_ver4_rfc)\n",
    "print('Confusion Matrix - Random Forest Classifier')\n",
    "print(cm_ver4_rfc)\n",
    "print('Accuracy - Random Forest Classifier - {}'.format(round(accu_ver4_rfc,2)*100))\n",
    "auc_ver4_rfc = metrics.roc_auc_score(y_test_ver4,y_pred_ver4_rfc)\n",
    "print('AUC - Random Forest Classifier - {}'.format(round(auc_ver4_rfc,2)*100))\n",
    "f1_ver4_rfc = f1_score(y_test_ver4,y_pred_ver4_rfc)\n",
    "print('F1 Score Random Forest Classifier  {}'.format(round(f1_ver4_rfc,2)*100))"
   ]
  },
  {
   "cell_type": "code",
   "execution_count": 341,
   "metadata": {},
   "outputs": [
    {
     "name": "stdout",
     "output_type": "stream",
     "text": [
      "Confusion Matrix - Gradient Boosting Classifier\n",
      "[[6487 1286]\n",
      " [2532 5124]]\n",
      "Accuracy - Gradient Boosting Classifier - 75.0\n",
      "AUC - Gradient Boosting Classifier - 75.0\n",
      "F1 Score Gradient Boosting Classifier  73.0\n"
     ]
    }
   ],
   "source": [
    "from sklearn.ensemble import GradientBoostingClassifier\n",
    "ver5_xgb = GradientBoostingClassifier()\n",
    "ver5_xgb.fit(x_train_ver4,y_train_ver4)\n",
    "\n",
    "y_pred_ver4_xgb = ver5_xgb.predict(x_test_ver4)\n",
    "cm_ver4_xgb = confusion_matrix(y_test_ver4,y_pred_ver4_xgb)\n",
    "accu_ver4_xgb = accuracy_score(y_test_ver4,y_pred_ver4_xgb)\n",
    "print('Confusion Matrix - Gradient Boosting Classifier')\n",
    "print(cm_ver4_xgb)\n",
    "print('Accuracy - Gradient Boosting Classifier - {}'.format(round(accu_ver4_xgb,2)*100))\n",
    "auc_ver4_xgb = metrics.roc_auc_score(y_test_ver4,y_pred_ver4_xgb)\n",
    "print('AUC - Gradient Boosting Classifier - {}'.format(round(auc_ver4_xgb,2)*100))\n",
    "f1_ver4_xgb = f1_score(y_test_ver4,y_pred_ver4_xgb)\n",
    "print('F1 Score Gradient Boosting Classifier  {}'.format(round(f1_ver4_xgb,2)*100))"
   ]
  },
  {
   "cell_type": "code",
   "execution_count": 346,
   "metadata": {},
   "outputs": [
    {
     "data": {
      "text/plain": [
       "0.7525439108172921"
      ]
     },
     "execution_count": 346,
     "metadata": {},
     "output_type": "execute_result"
    }
   ],
   "source": [
    "accuracy_score(y_test_ver4,y_pred_ver4_xgb)"
   ]
  },
  {
   "cell_type": "code",
   "execution_count": 347,
   "metadata": {},
   "outputs": [
    {
     "data": {
      "text/plain": [
       "0.7519172547686368"
      ]
     },
     "execution_count": 347,
     "metadata": {},
     "output_type": "execute_result"
    }
   ],
   "source": [
    "metrics.roc_auc_score(y_test_ver4,y_pred_ver4_xgb)"
   ]
  },
  {
   "cell_type": "code",
   "execution_count": null,
   "metadata": {},
   "outputs": [],
   "source": []
  }
 ],
 "metadata": {
  "kernelspec": {
   "display_name": "Python 3",
   "language": "python",
   "name": "python3"
  },
  "language_info": {
   "codemirror_mode": {
    "name": "ipython",
    "version": 3
   },
   "file_extension": ".py",
   "mimetype": "text/x-python",
   "name": "python",
   "nbconvert_exporter": "python",
   "pygments_lexer": "ipython3",
   "version": "3.8.5"
  }
 },
 "nbformat": 4,
 "nbformat_minor": 4
}
